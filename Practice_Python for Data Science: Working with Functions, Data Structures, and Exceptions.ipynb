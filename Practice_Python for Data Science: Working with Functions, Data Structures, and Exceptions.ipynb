{
  "nbformat": 4,
  "nbformat_minor": 0,
  "metadata": {
    "colab": {
      "provenance": [],
      "include_colab_link": true
    },
    "kernelspec": {
      "name": "python3",
      "display_name": "Python 3"
    },
    "language_info": {
      "name": "python"
    }
  },
  "cells": [
    {
      "cell_type": "markdown",
      "metadata": {
        "id": "view-in-github",
        "colab_type": "text"
      },
      "source": [
        "<a href=\"https://colab.research.google.com/github/Alfonso-Jesus-Garcia-Moya/Python_Data_Science_Working_with_Functions_Data_Structures_Exceptions/blob/main/Python%20for%20Data%20Science%3A%20Working%20with%20Functions%2C%20Data%20Structures%2C%20and%20Exceptions.ipynb\" target=\"_parent\"><img src=\"https://colab.research.google.com/assets/colab-badge.svg\" alt=\"Open In Colab\"/></a>"
      ]
    },
    {
      "cell_type": "markdown",
      "source": [
        "# <font color=green> **PYTHON PARA DATA SCIENCE**\n",
        "---"
      ],
      "metadata": {
        "id": "AGc2Cf4cBwd7"
      }
    },
    {
      "cell_type": "markdown",
      "source": [
        "## <font color=green> 1. BIBLIOTECAS\n",
        "---"
      ],
      "metadata": {
        "id": "fH2br9y9CYZ8"
      }
    },
    {
      "cell_type": "markdown",
      "source": [
        "## 1.1 Instalación e importación de bibliotecas\n",
        "\n",
        "En el lenguaje Python se utiliza bastante el concepto de bibliotecas como un conjunto de módulos y funciones útiles para el usuario. Estas favorecen la reducción del uso de códigos en el proyecto, manteniendo únicamente los recursos necesarios para la tarea que deseamos realizar."
      ],
      "metadata": {
        "id": "jjEKgfiuFzHz"
      }
    },
    {
      "cell_type": "code",
      "source": [
        "# Imprimir todos los paquetes instalados en el entorno y sus versiones\n",
        "!pip list"
      ],
      "metadata": {
        "collapsed": true,
        "id": "YSNk09KQevfY",
        "outputId": "9fce5fd9-574c-4310-86f2-af3ef954e157",
        "colab": {
          "base_uri": "https://localhost:8080/"
        }
      },
      "execution_count": null,
      "outputs": [
        {
          "output_type": "stream",
          "name": "stdout",
          "text": [
            "Package                               Version\n",
            "------------------------------------- -------------------\n",
            "absl-py                               1.4.0\n",
            "accelerate                            1.5.2\n",
            "aiohappyeyeballs                      2.6.1\n",
            "aiohttp                               3.11.15\n",
            "aiosignal                             1.3.2\n",
            "alabaster                             1.0.0\n",
            "albucore                              0.0.23\n",
            "albumentations                        2.0.5\n",
            "ale-py                                0.10.2\n",
            "altair                                5.5.0\n",
            "annotated-types                       0.7.0\n",
            "anyio                                 4.9.0\n",
            "argon2-cffi                           23.1.0\n",
            "argon2-cffi-bindings                  21.2.0\n",
            "array_record                          0.7.1\n",
            "arviz                                 0.21.0\n",
            "astropy                               7.0.1\n",
            "astropy-iers-data                     0.2025.4.14.0.37.22\n",
            "astunparse                            1.6.3\n",
            "atpublic                              5.1\n",
            "attrs                                 25.3.0\n",
            "audioread                             3.0.1\n",
            "autograd                              1.7.0\n",
            "babel                                 2.17.0\n",
            "backcall                              0.2.0\n",
            "backports.tarfile                     1.2.0\n",
            "beautifulsoup4                        4.13.4\n",
            "betterproto                           2.0.0b6\n",
            "bigframes                             1.42.0\n",
            "bigquery-magics                       0.9.0\n",
            "bleach                                6.2.0\n",
            "blinker                               1.9.0\n",
            "blis                                  1.3.0\n",
            "blosc2                                3.3.0\n",
            "bokeh                                 3.6.3\n",
            "Bottleneck                            1.4.2\n",
            "bqplot                                0.12.44\n",
            "branca                                0.8.1\n",
            "CacheControl                          0.14.2\n",
            "cachetools                            5.5.2\n",
            "catalogue                             2.0.10\n",
            "certifi                               2025.1.31\n",
            "cffi                                  1.17.1\n",
            "chardet                               5.2.0\n",
            "charset-normalizer                    3.4.1\n",
            "chex                                  0.1.89\n",
            "clarabel                              0.10.0\n",
            "click                                 8.1.8\n",
            "cloudpathlib                          0.21.0\n",
            "cloudpickle                           3.1.1\n",
            "cmake                                 3.31.6\n",
            "cmdstanpy                             1.2.5\n",
            "colorcet                              3.1.0\n",
            "colorlover                            0.3.0\n",
            "colour                                0.1.5\n",
            "community                             1.0.0b1\n",
            "confection                            0.1.5\n",
            "cons                                  0.4.6\n",
            "contourpy                             1.3.2\n",
            "cramjam                               2.10.0\n",
            "cryptography                          43.0.3\n",
            "cuda-python                           12.6.2.post1\n",
            "cudf-cu12                             25.2.1\n",
            "cudf-polars-cu12                      25.2.2\n",
            "cufflinks                             0.17.3\n",
            "cuml-cu12                             25.2.1\n",
            "cupy-cuda12x                          13.3.0\n",
            "cuvs-cu12                             25.2.1\n",
            "cvxopt                                1.3.2\n",
            "cvxpy                                 1.6.5\n",
            "cycler                                0.12.1\n",
            "cyipopt                               1.5.0\n",
            "cymem                                 2.0.11\n",
            "Cython                                3.0.12\n",
            "dask                                  2024.12.1\n",
            "dask-cuda                             25.2.0\n",
            "dask-cudf-cu12                        25.2.2\n",
            "dask-expr                             1.1.21\n",
            "datascience                           0.17.6\n",
            "db-dtypes                             1.4.2\n",
            "dbus-python                           1.2.18\n",
            "debugpy                               1.8.0\n",
            "decorator                             4.4.2\n",
            "defusedxml                            0.7.1\n",
            "Deprecated                            1.2.18\n",
            "diffusers                             0.32.2\n",
            "distributed                           2024.12.1\n",
            "distributed-ucxx-cu12                 0.42.0\n",
            "distro                                1.9.0\n",
            "dlib                                  19.24.6\n",
            "dm-tree                               0.1.9\n",
            "docker-pycreds                        0.4.0\n",
            "docstring_parser                      0.16\n",
            "docutils                              0.21.2\n",
            "dopamine_rl                           4.1.2\n",
            "duckdb                                1.2.2\n",
            "earthengine-api                       1.5.11\n",
            "easydict                              1.13\n",
            "editdistance                          0.8.1\n",
            "eerepr                                0.1.1\n",
            "einops                                0.8.1\n",
            "en_core_web_sm                        3.8.0\n",
            "entrypoints                           0.4\n",
            "et_xmlfile                            2.0.0\n",
            "etils                                 1.12.2\n",
            "etuples                               0.3.9\n",
            "Farama-Notifications                  0.0.4\n",
            "fastai                                2.7.19\n",
            "fastcore                              1.7.29\n",
            "fastdownload                          0.0.7\n",
            "fastjsonschema                        2.21.1\n",
            "fastprogress                          1.0.3\n",
            "fastrlock                             0.8.3\n",
            "filelock                              3.18.0\n",
            "firebase-admin                        6.7.0\n",
            "Flask                                 3.1.0\n",
            "flatbuffers                           25.2.10\n",
            "flax                                  0.10.5\n",
            "folium                                0.19.5\n",
            "fonttools                             4.57.0\n",
            "frozendict                            2.4.6\n",
            "frozenlist                            1.5.0\n",
            "fsspec                                2025.3.2\n",
            "future                                1.0.0\n",
            "gast                                  0.6.0\n",
            "gcsfs                                 2025.3.2\n",
            "GDAL                                  3.6.4\n",
            "gdown                                 5.2.0\n",
            "geemap                                0.35.3\n",
            "geocoder                              1.38.1\n",
            "geographiclib                         2.0\n",
            "geopandas                             1.0.1\n",
            "geopy                                 2.4.1\n",
            "gin-config                            0.5.0\n",
            "gitdb                                 4.0.12\n",
            "GitPython                             3.1.44\n",
            "glob2                                 0.7\n",
            "google                                2.0.3\n",
            "google-ai-generativelanguage          0.6.15\n",
            "google-api-core                       2.24.2\n",
            "google-api-python-client              2.164.0\n",
            "google-auth                           2.38.0\n",
            "google-auth-httplib2                  0.2.0\n",
            "google-auth-oauthlib                  1.2.1\n",
            "google-cloud-aiplatform               1.88.0\n",
            "google-cloud-bigquery                 3.31.0\n",
            "google-cloud-bigquery-connection      1.18.2\n",
            "google-cloud-bigquery-storage         2.30.0\n",
            "google-cloud-bigtable                 2.30.0\n",
            "google-cloud-core                     2.4.3\n",
            "google-cloud-dataproc                 5.18.1\n",
            "google-cloud-datastore                2.21.0\n",
            "google-cloud-firestore                2.20.1\n",
            "google-cloud-functions                1.20.3\n",
            "google-cloud-iam                      2.19.0\n",
            "google-cloud-language                 2.17.1\n",
            "google-cloud-pubsub                   2.29.0\n",
            "google-cloud-resource-manager         1.14.2\n",
            "google-cloud-spanner                  3.53.0\n",
            "google-cloud-storage                  2.19.0\n",
            "google-cloud-translate                3.20.2\n",
            "google-colab                          1.0.0\n",
            "google-crc32c                         1.7.1\n",
            "google-genai                          1.10.0\n",
            "google-generativeai                   0.8.4\n",
            "google-pasta                          0.2.0\n",
            "google-resumable-media                2.7.2\n",
            "google-spark-connect                  0.5.2\n",
            "googleapis-common-protos              1.70.0\n",
            "googledrivedownloader                 1.1.0\n",
            "graphviz                              0.20.3\n",
            "greenlet                              3.2.0\n",
            "grpc-google-iam-v1                    0.14.2\n",
            "grpc-interceptor                      0.15.4\n",
            "grpcio                                1.71.0\n",
            "grpcio-status                         1.71.0\n",
            "grpclib                               0.4.7\n",
            "gspread                               6.2.0\n",
            "gspread-dataframe                     4.0.0\n",
            "gym                                   0.25.2\n",
            "gym-notices                           0.0.8\n",
            "gymnasium                             1.1.1\n",
            "h11                                   0.14.0\n",
            "h2                                    4.2.0\n",
            "h5netcdf                              1.6.1\n",
            "h5py                                  3.13.0\n",
            "hdbscan                               0.8.40\n",
            "highspy                               1.9.0\n",
            "holidays                              0.70\n",
            "holoviews                             1.20.2\n",
            "hpack                                 4.1.0\n",
            "html5lib                              1.1\n",
            "httpcore                              1.0.8\n",
            "httpimport                            1.4.1\n",
            "httplib2                              0.22.0\n",
            "httpx                                 0.28.1\n",
            "huggingface-hub                       0.30.2\n",
            "humanize                              4.12.2\n",
            "hyperframe                            6.1.0\n",
            "hyperopt                              0.2.7\n",
            "ibis-framework                        9.5.0\n",
            "idna                                  3.10\n",
            "imageio                               2.37.0\n",
            "imageio-ffmpeg                        0.6.0\n",
            "imagesize                             1.4.1\n",
            "imbalanced-learn                      0.13.0\n",
            "immutabledict                         4.2.1\n",
            "importlib_metadata                    8.6.1\n",
            "importlib_resources                   6.5.2\n",
            "imutils                               0.5.4\n",
            "inflect                               7.5.0\n",
            "iniconfig                             2.1.0\n",
            "intel-cmplr-lib-ur                    2025.1.0\n",
            "intel-openmp                          2025.1.0\n",
            "ipyevents                             2.0.2\n",
            "ipyfilechooser                        0.6.0\n",
            "ipykernel                             6.17.1\n",
            "ipyleaflet                            0.19.2\n",
            "ipyparallel                           8.8.0\n",
            "ipython                               7.34.0\n",
            "ipython-genutils                      0.2.0\n",
            "ipython-sql                           0.5.0\n",
            "ipytree                               0.2.2\n",
            "ipywidgets                            7.7.1\n",
            "itsdangerous                          2.2.0\n",
            "jaraco.classes                        3.4.0\n",
            "jaraco.context                        6.0.1\n",
            "jaraco.functools                      4.1.0\n",
            "jax                                   0.5.2\n",
            "jax-cuda12-pjrt                       0.5.1\n",
            "jax-cuda12-plugin                     0.5.1\n",
            "jaxlib                                0.5.1\n",
            "jeepney                               0.9.0\n",
            "jellyfish                             1.1.0\n",
            "jieba                                 0.42.1\n",
            "Jinja2                                3.1.6\n",
            "jiter                                 0.9.0\n",
            "joblib                                1.4.2\n",
            "jsonpatch                             1.33\n",
            "jsonpickle                            4.0.5\n",
            "jsonpointer                           3.0.0\n",
            "jsonschema                            4.23.0\n",
            "jsonschema-specifications             2024.10.1\n",
            "jupyter-client                        6.1.12\n",
            "jupyter-console                       6.1.0\n",
            "jupyter_core                          5.7.2\n",
            "jupyter-leaflet                       0.19.2\n",
            "jupyter-server                        1.16.0\n",
            "jupyterlab_pygments                   0.3.0\n",
            "jupyterlab_widgets                    3.0.14\n",
            "kaggle                                1.7.4.2\n",
            "kagglehub                             0.3.11\n",
            "keras                                 3.8.0\n",
            "keras-hub                             0.18.1\n",
            "keras-nlp                             0.18.1\n",
            "keyring                               25.6.0\n",
            "keyrings.google-artifactregistry-auth 1.1.2\n",
            "kiwisolver                            1.4.8\n",
            "langchain                             0.3.23\n",
            "langchain-core                        0.3.52\n",
            "langchain-text-splitters              0.3.8\n",
            "langcodes                             3.5.0\n",
            "langsmith                             0.3.31\n",
            "language_data                         1.3.0\n",
            "launchpadlib                          1.10.16\n",
            "lazr.restfulclient                    0.14.4\n",
            "lazr.uri                              1.0.6\n",
            "lazy_loader                           0.4\n",
            "libclang                              18.1.1\n",
            "libcudf-cu12                          25.2.1\n",
            "libcugraph-cu12                       25.2.0\n",
            "libcuml-cu12                          25.2.1\n",
            "libcuvs-cu12                          25.2.1\n",
            "libkvikio-cu12                        25.2.1\n",
            "libraft-cu12                          25.2.0\n",
            "librosa                               0.11.0\n",
            "libucx-cu12                           1.18.0\n",
            "libucxx-cu12                          0.42.0\n",
            "lightgbm                              4.5.0\n",
            "linkify-it-py                         2.0.3\n",
            "llvmlite                              0.43.0\n",
            "locket                                1.0.0\n",
            "logical-unification                   0.4.6\n",
            "lxml                                  5.3.2\n",
            "Mako                                  1.1.3\n",
            "marisa-trie                           1.2.1\n",
            "Markdown                              3.8\n",
            "markdown-it-py                        3.0.0\n",
            "MarkupSafe                            3.0.2\n",
            "matplotlib                            3.10.0\n",
            "matplotlib-inline                     0.1.7\n",
            "matplotlib-venn                       1.1.2\n",
            "mdit-py-plugins                       0.4.2\n",
            "mdurl                                 0.1.2\n",
            "miniKanren                            1.0.3\n",
            "missingno                             0.5.2\n",
            "mistune                               3.1.3\n",
            "mizani                                0.13.3\n",
            "mkl                                   2025.0.1\n",
            "ml-dtypes                             0.4.1\n",
            "mlxtend                               0.23.4\n",
            "more-itertools                        10.6.0\n",
            "moviepy                               1.0.3\n",
            "mpmath                                1.3.0\n",
            "msgpack                               1.1.0\n",
            "multidict                             6.4.3\n",
            "multipledispatch                      1.0.0\n",
            "multitasking                          0.0.11\n",
            "murmurhash                            1.0.12\n",
            "music21                               9.3.0\n",
            "namex                                 0.0.8\n",
            "narwhals                              1.35.0\n",
            "natsort                               8.4.0\n",
            "nbclassic                             1.2.0\n",
            "nbclient                              0.10.2\n",
            "nbconvert                             7.16.6\n",
            "nbformat                              5.10.4\n",
            "ndindex                               1.9.2\n",
            "nest-asyncio                          1.6.0\n",
            "networkx                              3.4.2\n",
            "nibabel                               5.3.2\n",
            "nltk                                  3.9.1\n",
            "notebook                              6.5.7\n",
            "notebook_shim                         0.2.4\n",
            "numba                                 0.60.0\n",
            "numba-cuda                            0.2.0\n",
            "numexpr                               2.10.2\n",
            "numpy                                 2.0.2\n",
            "nvidia-cublas-cu12                    12.5.3.2\n",
            "nvidia-cuda-cupti-cu12                12.5.82\n",
            "nvidia-cuda-nvcc-cu12                 12.5.82\n",
            "nvidia-cuda-nvrtc-cu12                12.5.82\n",
            "nvidia-cuda-runtime-cu12              12.5.82\n",
            "nvidia-cudnn-cu12                     9.3.0.75\n",
            "nvidia-cufft-cu12                     11.2.3.61\n",
            "nvidia-curand-cu12                    10.3.6.82\n",
            "nvidia-cusolver-cu12                  11.6.3.83\n",
            "nvidia-cusparse-cu12                  12.5.1.3\n",
            "nvidia-cusparselt-cu12                0.6.2\n",
            "nvidia-ml-py                          12.570.86\n",
            "nvidia-nccl-cu12                      2.21.5\n",
            "nvidia-nvcomp-cu12                    4.2.0.11\n",
            "nvidia-nvjitlink-cu12                 12.5.82\n",
            "nvidia-nvtx-cu12                      12.4.127\n",
            "nvtx                                  0.2.11\n",
            "nx-cugraph-cu12                       25.2.0\n",
            "oauth2client                          4.1.3\n",
            "oauthlib                              3.2.2\n",
            "openai                                1.75.0\n",
            "opencv-contrib-python                 4.11.0.86\n",
            "opencv-python                         4.11.0.86\n",
            "opencv-python-headless                4.11.0.86\n",
            "openpyxl                              3.1.5\n",
            "opentelemetry-api                     1.32.1\n",
            "opentelemetry-sdk                     1.32.1\n",
            "opentelemetry-semantic-conventions    0.53b1\n",
            "opt_einsum                            3.4.0\n",
            "optax                                 0.2.4\n",
            "optree                                0.15.0\n",
            "orbax-checkpoint                      0.11.12\n",
            "orjson                                3.10.16\n",
            "osqp                                  1.0.3\n",
            "packaging                             24.2\n",
            "pandas                                2.2.2\n",
            "pandas-datareader                     0.10.0\n",
            "pandas-gbq                            0.28.0\n",
            "pandas-stubs                          2.2.2.240909\n",
            "pandocfilters                         1.5.1\n",
            "panel                                 1.6.2\n",
            "param                                 2.2.0\n",
            "parso                                 0.8.4\n",
            "parsy                                 2.1\n",
            "partd                                 1.4.2\n",
            "pathlib                               1.0.1\n",
            "patsy                                 1.0.1\n",
            "peewee                                3.17.9\n",
            "peft                                  0.14.0\n",
            "pexpect                               4.9.0\n",
            "pickleshare                           0.7.5\n",
            "pillow                                11.1.0\n",
            "pip                                   24.1.2\n",
            "platformdirs                          4.3.7\n",
            "plotly                                5.24.1\n",
            "plotnine                              0.14.5\n",
            "pluggy                                1.5.0\n",
            "ply                                   3.11\n",
            "polars                                1.21.0\n",
            "pooch                                 1.8.2\n",
            "portpicker                            1.5.2\n",
            "preshed                               3.0.9\n",
            "prettytable                           3.16.0\n",
            "proglog                               0.1.11\n",
            "progressbar2                          4.5.0\n",
            "prometheus_client                     0.21.1\n",
            "promise                               2.3\n",
            "prompt_toolkit                        3.0.51\n",
            "propcache                             0.3.1\n",
            "prophet                               1.1.6\n",
            "proto-plus                            1.26.1\n",
            "protobuf                              5.29.4\n",
            "psutil                                5.9.5\n",
            "psycopg2                              2.9.10\n",
            "ptyprocess                            0.7.0\n",
            "py-cpuinfo                            9.0.0\n",
            "py4j                                  0.10.9.7\n",
            "pyarrow                               18.1.0\n",
            "pyasn1                                0.6.1\n",
            "pyasn1_modules                        0.4.2\n",
            "pycairo                               1.28.0\n",
            "pycocotools                           2.0.8\n",
            "pycparser                             2.22\n",
            "pydantic                              2.11.3\n",
            "pydantic_core                         2.33.1\n",
            "pydata-google-auth                    1.9.1\n",
            "pydot                                 3.0.4\n",
            "pydotplus                             2.0.2\n",
            "PyDrive                               1.3.1\n",
            "PyDrive2                              1.21.3\n",
            "pyerfa                                2.0.1.5\n",
            "pygame                                2.6.1\n",
            "pygit2                                1.17.0\n",
            "Pygments                              2.18.0\n",
            "PyGObject                             3.42.0\n",
            "PyJWT                                 2.10.1\n",
            "pylibcudf-cu12                        25.2.1\n",
            "pylibcugraph-cu12                     25.2.0\n",
            "pylibraft-cu12                        25.2.0\n",
            "pymc                                  5.21.2\n",
            "pymystem3                             0.2.0\n",
            "pynndescent                           0.5.13\n",
            "pynvjitlink-cu12                      0.5.2\n",
            "pynvml                                12.0.0\n",
            "pyogrio                               0.10.0\n",
            "Pyomo                                 6.8.2\n",
            "PyOpenGL                              3.1.9\n",
            "pyOpenSSL                             24.2.1\n",
            "pyparsing                             3.2.3\n",
            "pyperclip                             1.9.0\n",
            "pyproj                                3.7.1\n",
            "pyshp                                 2.3.1\n",
            "PySocks                               1.7.1\n",
            "pyspark                               3.5.5\n",
            "pytensor                              2.30.3\n",
            "pytest                                8.3.5\n",
            "python-apt                            0.0.0\n",
            "python-box                            7.3.2\n",
            "python-dateutil                       2.8.2\n",
            "python-louvain                        0.16\n",
            "python-slugify                        8.0.4\n",
            "python-snappy                         0.7.3\n",
            "python-utils                          3.9.1\n",
            "pytz                                  2025.2\n",
            "pyviz_comms                           3.0.4\n",
            "PyYAML                                6.0.2\n",
            "pyzmq                                 24.0.1\n",
            "raft-dask-cu12                        25.2.0\n",
            "rapids-dask-dependency                25.2.0\n",
            "ratelim                               0.1.6\n",
            "referencing                           0.36.2\n",
            "regex                                 2024.11.6\n",
            "requests                              2.32.3\n",
            "requests-oauthlib                     2.0.0\n",
            "requests-toolbelt                     1.0.0\n",
            "requirements-parser                   0.9.0\n",
            "rich                                  13.9.4\n",
            "rmm-cu12                              25.2.0\n",
            "roman-numerals-py                     3.1.0\n",
            "rpds-py                               0.24.0\n",
            "rpy2                                  3.5.17\n",
            "rsa                                   4.9.1\n",
            "safetensors                           0.5.3\n",
            "scikit-image                          0.25.2\n",
            "scikit-learn                          1.6.1\n",
            "scipy                                 1.14.1\n",
            "scooby                                0.10.0\n",
            "scs                                   3.2.7.post2\n",
            "seaborn                               0.13.2\n",
            "SecretStorage                         3.3.3\n",
            "Send2Trash                            1.8.3\n",
            "sentence-transformers                 3.4.1\n",
            "sentencepiece                         0.2.0\n",
            "sentry-sdk                            2.26.1\n",
            "setproctitle                          1.3.5\n",
            "setuptools                            75.2.0\n",
            "shap                                  0.47.1\n",
            "shapely                               2.1.0\n",
            "shellingham                           1.5.4\n",
            "simple-parsing                        0.1.7\n",
            "simplejson                            3.20.1\n",
            "simsimd                               6.2.1\n",
            "six                                   1.17.0\n",
            "sklearn-compat                        0.1.3\n",
            "sklearn-pandas                        2.2.0\n",
            "slicer                                0.0.8\n",
            "smart-open                            7.1.0\n",
            "smmap                                 5.0.2\n",
            "sniffio                               1.3.1\n",
            "snowballstemmer                       2.2.0\n",
            "sortedcontainers                      2.4.0\n",
            "soundfile                             0.13.1\n",
            "soupsieve                             2.6\n",
            "soxr                                  0.5.0.post1\n",
            "spacy                                 3.8.5\n",
            "spacy-legacy                          3.0.12\n",
            "spacy-loggers                         1.0.5\n",
            "spanner-graph-notebook                1.1.6\n",
            "Sphinx                                8.2.3\n",
            "sphinxcontrib-applehelp               2.0.0\n",
            "sphinxcontrib-devhelp                 2.0.0\n",
            "sphinxcontrib-htmlhelp                2.1.0\n",
            "sphinxcontrib-jsmath                  1.0.1\n",
            "sphinxcontrib-qthelp                  2.0.0\n",
            "sphinxcontrib-serializinghtml         2.0.0\n",
            "SQLAlchemy                            2.0.40\n",
            "sqlglot                               25.20.2\n",
            "sqlparse                              0.5.3\n",
            "srsly                                 2.5.1\n",
            "stanio                                0.5.1\n",
            "statsmodels                           0.14.4\n",
            "stringzilla                           3.12.4\n",
            "sympy                                 1.13.1\n",
            "tables                                3.10.2\n",
            "tabulate                              0.9.0\n",
            "tbb                                   2022.1.0\n",
            "tblib                                 3.1.0\n",
            "tcmlib                                1.3.0\n",
            "tenacity                              9.1.2\n",
            "tensorboard                           2.18.0\n",
            "tensorboard-data-server               0.7.2\n",
            "tensorflow                            2.18.0\n",
            "tensorflow-datasets                   4.9.8\n",
            "tensorflow_decision_forests           1.11.0\n",
            "tensorflow-hub                        0.16.1\n",
            "tensorflow-io-gcs-filesystem          0.37.1\n",
            "tensorflow-metadata                   1.17.1\n",
            "tensorflow-probability                0.25.0\n",
            "tensorflow-text                       2.18.1\n",
            "tensorstore                           0.1.73\n",
            "termcolor                             3.0.1\n",
            "terminado                             0.18.1\n",
            "text-unidecode                        1.3\n",
            "textblob                              0.19.0\n",
            "tf_keras                              2.18.0\n",
            "tf-slim                               1.1.0\n",
            "thinc                                 8.3.6\n",
            "threadpoolctl                         3.6.0\n",
            "tifffile                              2025.3.30\n",
            "timm                                  1.0.15\n",
            "tinycss2                              1.4.0\n",
            "tokenizers                            0.21.1\n",
            "toml                                  0.10.2\n",
            "toolz                                 0.12.1\n",
            "torch                                 2.6.0+cu124\n",
            "torchaudio                            2.6.0+cu124\n",
            "torchsummary                          1.5.1\n",
            "torchvision                           0.21.0+cu124\n",
            "tornado                               6.4.2\n",
            "tqdm                                  4.67.1\n",
            "traitlets                             5.7.1\n",
            "traittypes                            0.2.1\n",
            "transformers                          4.51.3\n",
            "treelite                              4.4.1\n",
            "treescope                             0.1.9\n",
            "triton                                3.2.0\n",
            "tweepy                                4.15.0\n",
            "typeguard                             4.4.2\n",
            "typer                                 0.15.2\n",
            "types-pytz                            2025.2.0.20250326\n",
            "types-setuptools                      78.1.0.20250329\n",
            "typing_extensions                     4.13.2\n",
            "typing-inspection                     0.4.0\n",
            "tzdata                                2025.2\n",
            "tzlocal                               5.3.1\n",
            "uc-micro-py                           1.0.3\n",
            "ucx-py-cu12                           0.42.0\n",
            "ucxx-cu12                             0.42.0\n",
            "umap-learn                            0.5.7\n",
            "umf                                   0.10.0\n",
            "uritemplate                           4.1.1\n",
            "urllib3                               2.3.0\n",
            "vega-datasets                         0.9.0\n",
            "wadllib                               1.3.6\n",
            "wandb                                 0.19.9\n",
            "wasabi                                1.1.3\n",
            "wcwidth                               0.2.13\n",
            "weasel                                0.4.1\n",
            "webcolors                             24.11.1\n",
            "webencodings                          0.5.1\n",
            "websocket-client                      1.8.0\n",
            "websockets                            15.0.1\n",
            "Werkzeug                              3.1.3\n",
            "wheel                                 0.45.1\n",
            "widgetsnbextension                    3.6.10\n",
            "wordcloud                             1.9.4\n",
            "wrapt                                 1.17.2\n",
            "wurlitzer                             3.1.1\n",
            "xarray                                2025.1.2\n",
            "xarray-einstats                       0.8.0\n",
            "xgboost                               2.1.4\n",
            "xlrd                                  2.0.1\n",
            "xyzservices                           2025.1.0\n",
            "yarl                                  1.19.0\n",
            "ydf                                   0.11.0\n",
            "yellowbrick                           1.5\n",
            "yfinance                              0.2.55\n",
            "zict                                  3.0.0\n",
            "zipp                                  3.21.0\n",
            "zstandard                             0.23.0\n"
          ]
        }
      ]
    },
    {
      "cell_type": "markdown",
      "source": [
        "### Instalando una biblioteca"
      ],
      "metadata": {
        "id": "JjpazCgqDRfZ"
      }
    },
    {
      "cell_type": "markdown",
      "source": [
        "Para instalar o actualizar una biblioteca en Python, podemos acudir a `pip` que es un gestor de bibliotecas en Python."
      ],
      "metadata": {
        "id": "_qnuIo7oIQYx"
      }
    },
    {
      "cell_type": "markdown",
      "source": [
        "Existe también PYPI que es un repositorio de bibliotecas Python que contiene las bibliotecas más utilizadas por la comunidad junto a su respectiva documentación.\n",
        "\n",
        "- PYPI ([https://pypi.org/](https://pypi.org/))"
      ],
      "metadata": {
        "id": "IHTmQnlXInD1"
      }
    },
    {
      "cell_type": "code",
      "source": [
        "!pip install matplotlib"
      ],
      "metadata": {
        "id": "Rv5sIo7NM5VS",
        "outputId": "00b00789-015c-461f-9fbc-8b7412ee6712",
        "colab": {
          "base_uri": "https://localhost:8080/"
        }
      },
      "execution_count": null,
      "outputs": [
        {
          "output_type": "stream",
          "name": "stdout",
          "text": [
            "Requirement already satisfied: matplotlib in /usr/local/lib/python3.11/dist-packages (3.10.0)\n",
            "Requirement already satisfied: contourpy>=1.0.1 in /usr/local/lib/python3.11/dist-packages (from matplotlib) (1.3.2)\n",
            "Requirement already satisfied: cycler>=0.10 in /usr/local/lib/python3.11/dist-packages (from matplotlib) (0.12.1)\n",
            "Requirement already satisfied: fonttools>=4.22.0 in /usr/local/lib/python3.11/dist-packages (from matplotlib) (4.57.0)\n",
            "Requirement already satisfied: kiwisolver>=1.3.1 in /usr/local/lib/python3.11/dist-packages (from matplotlib) (1.4.8)\n",
            "Requirement already satisfied: numpy>=1.23 in /usr/local/lib/python3.11/dist-packages (from matplotlib) (2.0.2)\n",
            "Requirement already satisfied: packaging>=20.0 in /usr/local/lib/python3.11/dist-packages (from matplotlib) (24.2)\n",
            "Requirement already satisfied: pillow>=8 in /usr/local/lib/python3.11/dist-packages (from matplotlib) (11.1.0)\n",
            "Requirement already satisfied: pyparsing>=2.3.1 in /usr/local/lib/python3.11/dist-packages (from matplotlib) (3.2.3)\n",
            "Requirement already satisfied: python-dateutil>=2.7 in /usr/local/lib/python3.11/dist-packages (from matplotlib) (2.8.2)\n",
            "Requirement already satisfied: six>=1.5 in /usr/local/lib/python3.11/dist-packages (from python-dateutil>=2.7->matplotlib) (1.17.0)\n"
          ]
        }
      ]
    },
    {
      "cell_type": "code",
      "source": [
        "matplotlib.__version__"
      ],
      "metadata": {
        "id": "REYsDRqHM6hN",
        "outputId": "8ed67f89-81c6-45db-d800-0e42771f8a09",
        "colab": {
          "base_uri": "https://localhost:8080/",
          "height": 35
        }
      },
      "execution_count": null,
      "outputs": [
        {
          "output_type": "execute_result",
          "data": {
            "text/plain": [
              "'3.10.0'"
            ],
            "application/vnd.google.colaboratory.intrinsic+json": {
              "type": "string"
            }
          },
          "metadata": {},
          "execution_count": 5
        }
      ]
    },
    {
      "cell_type": "markdown",
      "source": [
        "![image.png](data:image/png;base64,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)"
      ],
      "metadata": {
        "id": "wTNjLqblbK1s"
      }
    },
    {
      "cell_type": "markdown",
      "source": [
        "### Importando una biblioteca"
      ],
      "metadata": {
        "id": "A76TbnDbDehe"
      }
    },
    {
      "cell_type": "code",
      "source": [
        "import matplotlib"
      ],
      "metadata": {
        "id": "_xUxLlZFM728"
      },
      "execution_count": null,
      "outputs": []
    },
    {
      "cell_type": "code",
      "source": [
        "matplotlib.__version__"
      ],
      "metadata": {
        "id": "xy035zQzM75b",
        "outputId": "516f5af4-86d7-4656-a99b-5d67cb467459",
        "colab": {
          "base_uri": "https://localhost:8080/",
          "height": 35
        }
      },
      "execution_count": null,
      "outputs": [
        {
          "output_type": "execute_result",
          "data": {
            "text/plain": [
              "'3.10.0'"
            ],
            "application/vnd.google.colaboratory.intrinsic+json": {
              "type": "string"
            }
          },
          "metadata": {},
          "execution_count": 8
        }
      ]
    },
    {
      "cell_type": "code",
      "source": [],
      "metadata": {
        "id": "m-pnBEBKcI9j"
      },
      "execution_count": null,
      "outputs": []
    },
    {
      "cell_type": "markdown",
      "source": [
        "## 1.2 Utilizando módulos/bibliotecas\n",
        "\n",
        "- Documentación de Python (https://docs.python.org/es/3/)"
      ],
      "metadata": {
        "id": "oMxkV9-6GXwH"
      }
    },
    {
      "cell_type": "markdown",
      "source": [
        "#### Ejemplo 1: Vamos a probar la biblioteca Matplotlib para un ejemplo sobre el cálculo de los promedios de notas de los estudiantes de una clase.\n",
        "\n",
        "(https://matplotlib.org/stable/tutorials/introductory/pyplot.html)"
      ],
      "metadata": {
        "id": "W1MHaXB2Q7tT"
      }
    },
    {
      "cell_type": "code",
      "source": [
        "from matplotlib import pyplot as plt"
      ],
      "metadata": {
        "id": "hme-WlDYM-Od"
      },
      "execution_count": null,
      "outputs": []
    },
    {
      "cell_type": "code",
      "source": [
        "estudiantes = [\"Juan\", \"maria\", \"jose\"]\n",
        "notas = [8.5, 9.0, 6.0]"
      ],
      "metadata": {
        "id": "mv1h3vJsM-RK"
      },
      "execution_count": null,
      "outputs": []
    },
    {
      "cell_type": "code",
      "source": [
        "plt.bar(estudiantes, notas)\n",
        "plt.show()\n"
      ],
      "metadata": {
        "id": "GK77H828M-Zk",
        "outputId": "2424c2ef-5393-4809-fc80-2dc20f3f0505",
        "colab": {
          "base_uri": "https://localhost:8080/",
          "height": 430
        }
      },
      "execution_count": null,
      "outputs": [
        {
          "output_type": "display_data",
          "data": {
            "text/plain": [
              "<Figure size 640x480 with 1 Axes>"
            ],
            "image/png": "[encoded data removed]"
          },
          "metadata": {}
        }
      ]
    },
    {
      "cell_type": "markdown",
      "source": [
        "#### Ejemplo 2: Vamos a seleccionar aleatoriamente a un alumno para presentar su trabajo de ciencia de datos usando la biblioteca `random`.\n",
        "\n",
        "(https://docs.python.org/es/3/library/random.html)"
      ],
      "metadata": {
        "id": "5G6u4ZRYRIFZ"
      }
    },
    {
      "cell_type": "code",
      "source": [
        "estudiantes_2 = [\"Juan\", \"maria\", \"jose\",\"Erica\" ]"
      ],
      "metadata": {
        "id": "Y4o2AvhWNBdM"
      },
      "execution_count": null,
      "outputs": []
    },
    {
      "cell_type": "code",
      "source": [
        "import random"
      ],
      "metadata": {
        "id": "9fXfsVnANBiG"
      },
      "execution_count": null,
      "outputs": []
    },
    {
      "cell_type": "markdown",
      "source": [
        "<font color=green>**Tip:**</font> Podrás notar a medida que avanzas en los ejercicios la importancia de acudir a la documentación para aprender cómo utilizar un método de algún módulo en el lenguaje Python.\n",
        "\n",
        "El método `help()`, por ejemplo, retorna una descripción sobre una variable, método o clase.\n",
        "\n",
        "https://docs.python.org/es/3/library/functions.html?#help"
      ],
      "metadata": {
        "id": "N-XJrnISGpTN"
      }
    },
    {
      "cell_type": "code",
      "source": [
        "from random import choice"
      ],
      "metadata": {
        "id": "a2zJCXNUND9X"
      },
      "execution_count": null,
      "outputs": []
    },
    {
      "cell_type": "code",
      "source": [
        "estudiante = choice(estudiantes_2)\n",
        "estudiante"
      ],
      "metadata": {
        "id": "2Yvr71PIND_r",
        "outputId": "5af47873-7bf6-41db-99e4-25db129f4662",
        "colab": {
          "base_uri": "https://localhost:8080/",
          "height": 35
        }
      },
      "execution_count": null,
      "outputs": [
        {
          "output_type": "execute_result",
          "data": {
            "text/plain": [
              "'maria'"
            ],
            "application/vnd.google.colaboratory.intrinsic+json": {
              "type": "string"
            }
          },
          "metadata": {},
          "execution_count": 20
        }
      ]
    },
    {
      "cell_type": "code",
      "source": [],
      "metadata": {
        "id": "UFfZz4CxNGjU"
      },
      "execution_count": null,
      "outputs": []
    },
    {
      "cell_type": "markdown",
      "source": [
        "# Practica de bibliotecas\n"
      ],
      "metadata": {
        "id": "gbLwZXg-rUPm"
      }
    },
    {
      "cell_type": "markdown",
      "source": [
        "Vamos a practicar lo que hemos aprendido hasta ahora resolviendo los problemas propuestos en código.\n",
        "\n",
        "Calentamiento\n",
        "\n",
        "1 - Escribe un código para instalar la versión 3.7.1 de la biblioteca matplotlib.\n",
        "\n",
        "2 - Escribe un código para importar la biblioteca numpy con el alias np.\n",
        "\n",
        "3 - Crea un programa que lea la siguiente lista de números y elija uno al azar.\n",
        "\n",
        "lista = [8, 12, 54, 23, 43, 1, 90, 87, 105, 77]\n",
        "Copia el código\n",
        "4 - Crea un programa que genere aleatoriamente un número entero menor que 100.\n",
        "\n",
        "5 - Crea un programa que solicite a la persona usuaria ingresar dos números enteros y calcule la potencia del primer número elevado al segundo.\n",
        "\n",
        "Aplicando a proyectos\n",
        "\n",
        "6 - Se debe escribir un programa para sortear a un seguidor de una red social para ganar un premio. La lista de participantes está numerada y debemos elegir aleatoriamente un número según la cantidad de participantes. Pide a la persona usuaria que proporcione el número de participantes del sorteo y devuelve el número sorteado.\n",
        "\n",
        "7 - Has recibido una solicitud para generar números de token para acceder a la aplicación de una empresa. El token debe ser par y variar de 1000 a 9998. Escribe un código que solicite el nombre de la persona usuaria y muestre un mensaje junto a este token generado aleatoriamente.\n",
        "\n",
        "print(f\"Hola, {nombre_usuario}, tu token de acceso es {token_generado} ¡Bienvenido/a!\")\n",
        "Copia el código\n",
        "8 - Para diversificar y atraer nuevos clientes, una lanchonete creó un ítem misterioso en su menú llamado \"ensalada de frutas sorpresa\". En este ítem, se eligen aleatoriamente 3 frutas de una lista de 12 para componer la ensalada de frutas del cliente. Crea el código que realice esta selección aleatoria según la lista dada.\n",
        "\n",
        "frutas = [\"manzana\", \"banana\", \"uva\", \"pera\", \"mango\", \"coco\", \"sandia\", \"fresa\", \"naranja\", \"maracuya\", \"kiwi\", \"cereza\"]\n",
        "Copia el código\n",
        "9 - Has recibido un desafío para calcular la raíz cuadrada de una lista de números, identificando cuáles resultan en un número entero. La lista es la siguiente:\n",
        "\n",
        "numeros = [2, 8, 15, 23, 91, 112, 256]\n",
        "Copia el código\n",
        "10 - Haz un programa para una tienda que vende césped para jardines. Esta tienda trabaja con jardines circulares y el precio del metro cuadrado de césped es de R$ 25,00. Pide a la persona usuaria el radio del área circular y devuelve el valor en reales de cuánto tendrá que pagar.\n",
        "\n",
        " Discutir en el Foro\n"
      ],
      "metadata": {
        "id": "uvuvP0pGrYki"
      }
    },
    {
      "cell_type": "markdown",
      "source": [
        "## <font color=green> 2. FUNCIONES\n",
        "---"
      ],
      "metadata": {
        "id": "2hrSPmlcBwWS"
      }
    },
    {
      "cell_type": "code",
      "source": [],
      "metadata": {
        "id": "K_Ts7s-MraDD"
      },
      "execution_count": null,
      "outputs": []
    },
    {
      "cell_type": "markdown",
      "source": [
        "En Python, las **funciones** son secuencias de instrucciones que ejecutan tareas específicas, permitiendo su reutilización en diferentes partes del código. Estas pueden recibir parámetros de entrada (que también los conocemos como *inputs*) y también retornar resultados."
      ],
      "metadata": {
        "id": "gC4lHsW-DREY"
      }
    },
    {
      "cell_type": "markdown",
      "source": [
        "## 2.1 Built-in function (Función Incorporada)\n",
        "\n",
        "El interpretador de Python contiene una serie de funciones incorporadas que pueden ser invocadas es cualquier momento. Algunas que vamos a utilizar a lo largo de este curso son: `type()`, `print()`, `list()`, `zip()`, `sum()`, `map()`, etc.\n",
        "\n",
        "***Documentación:***\n",
        "https://docs.python.org/es/3/library/functions.html\n"
      ],
      "metadata": {
        "id": "Qr_h1_UNEzHZ"
      }
    },
    {
      "cell_type": "markdown",
      "source": [
        "#### **Situación 1:**\n",
        "\n",
        "La institución educativa para la cual nos encontramos trabajando compartió los datos de las notas de un estudiante para que pudiesemos calcular su promedio con una casilla decimal.\n",
        "\n",
        "Los datos recibidos corresponden a un diccionario cuyas llaves indican el trimestre en cuestión y sus valores corresponden a las notas de cada trimestre del estudiante en una respectiva materia."
      ],
      "metadata": {
        "id": "MMOJIW3TyLIB"
      }
    },
    {
      "cell_type": "code",
      "source": [],
      "metadata": {
        "id": "WQ-pCgdaMOlc"
      },
      "execution_count": null,
      "outputs": []
    },
    {
      "cell_type": "code",
      "source": [],
      "metadata": {
        "id": "GU-HvC-QMOoS"
      },
      "execution_count": null,
      "outputs": []
    },
    {
      "cell_type": "code",
      "source": [],
      "metadata": {
        "id": "qKEyjY2bMOqj"
      },
      "execution_count": null,
      "outputs": []
    },
    {
      "cell_type": "markdown",
      "source": [
        "*Redondear el promedio usando round():*\n",
        "\n",
        "https://docs.python.org/es/3/library/functions.html#round"
      ],
      "metadata": {
        "id": "JD2z3LW8312E"
      }
    },
    {
      "cell_type": "code",
      "source": [],
      "metadata": {
        "id": "c7Cn5XFfMP5E"
      },
      "execution_count": null,
      "outputs": []
    },
    {
      "cell_type": "code",
      "source": [],
      "metadata": {
        "id": "eVNPFr0pMRWl"
      },
      "execution_count": null,
      "outputs": []
    },
    {
      "cell_type": "markdown",
      "source": [
        "## 2.2 Creando funciones"
      ],
      "metadata": {
        "id": "NCUSezOJIdfy"
      }
    },
    {
      "cell_type": "markdown",
      "source": [
        "Tras explorar las funciones incorporadas y aprender cómo utilizar algunas de ellas, es posible que tengas la necesidad de resolver un problema específico y estas no sean suficientes.\n",
        "\n",
        "Por este motivo, necesitaremos crear nuestras propias funciones, y aún más, si necesitamos aplicarlas en varias partes de nuestros códigos."
      ],
      "metadata": {
        "id": "QrTAXwghsg6s"
      }
    },
    {
      "cell_type": "markdown",
      "source": [
        "### Funciones sin parámetros\n",
        "\n",
        "#### Formato estándar:\n",
        "\n",
        "```python\n",
        "def <nombre>():\n",
        "  <instrucciones>\n",
        "```"
      ],
      "metadata": {
        "id": "zxyXiX462A_X"
      }
    },
    {
      "cell_type": "code",
      "source": [],
      "metadata": {
        "id": "WgWoULpnMSrT"
      },
      "execution_count": null,
      "outputs": []
    },
    {
      "cell_type": "code",
      "source": [],
      "metadata": {
        "id": "VKfg0zkDMStp"
      },
      "execution_count": null,
      "outputs": []
    },
    {
      "cell_type": "code",
      "source": [],
      "metadata": {
        "id": "04YIHBu-MTNB"
      },
      "execution_count": null,
      "outputs": []
    },
    {
      "cell_type": "markdown",
      "source": [
        "### Funciones con parámetros\n",
        "\n",
        "#### Formato estándar:\n",
        "\n",
        "```python\n",
        "def <nombre>(<param_1>, <param_2>, ..., <param_n>):\n",
        "  <instrucciones>\n",
        "```"
      ],
      "metadata": {
        "id": "o9AR_DNDFKSD"
      }
    },
    {
      "cell_type": "code",
      "source": [],
      "metadata": {
        "id": "1QHJXCYsMUx3"
      },
      "execution_count": null,
      "outputs": []
    },
    {
      "cell_type": "code",
      "source": [],
      "metadata": {
        "id": "txkkIwheMU0n"
      },
      "execution_count": null,
      "outputs": []
    },
    {
      "cell_type": "code",
      "source": [],
      "metadata": {
        "id": "Pq88ApQEMWK9"
      },
      "execution_count": null,
      "outputs": []
    },
    {
      "cell_type": "markdown",
      "source": [
        "#### **Situación 2:**\n",
        "\n",
        "Recibimos una solicitud para crear una función que calcule el promedio de notas de un estudiante a partir de una lista; que permita alterar la cantidad de notas, y que no implique tener que modificar la función.\n",
        "\n",
        "Los datos recibidos, en esta ocasión, corresponden a una lista que contiene las notas de un mismo estudiante en una determinada materia.\n",
        "\n",
        "notas = 8.5, 9.0, 6.0, 10.0\n",
        "\n",
        "**¿Vamos a resolver este desafío?**\n",
        "\n",
        "Para facilitar nuestra comprensión del proceso, vamos a aplicar las notas de un único estudiante; sin embargo, puedes probar otros casos para practicar."
      ],
      "metadata": {
        "id": "-Umx7n134suz"
      }
    },
    {
      "cell_type": "code",
      "source": [
        "notas = [8.5, 9.0, 6.0, 10.0]"
      ],
      "metadata": {
        "id": "U4MlTO9ucAKc"
      },
      "execution_count": null,
      "outputs": []
    },
    {
      "cell_type": "code",
      "source": [],
      "metadata": {
        "id": "ZrqyDBNFMYOK"
      },
      "execution_count": null,
      "outputs": []
    },
    {
      "cell_type": "code",
      "source": [],
      "metadata": {
        "id": "wEkixagwMY2E"
      },
      "execution_count": null,
      "outputs": []
    },
    {
      "cell_type": "code",
      "source": [],
      "metadata": {
        "id": "60Gvxd9tMa5d"
      },
      "execution_count": null,
      "outputs": []
    },
    {
      "cell_type": "markdown",
      "source": [
        "<font color=red>**Atención!**</font>\n",
        "Cuando utilizamos funciones, necesitamos prestar atención a una propiedad llamada **Alcance de una función**. Esta propiedad determina dónde una variable puede ser utilizada dentro del código. Por ejemplo, una variable creada dentro de una función existirá únicamente dentro de esta función. O sea, cuando finaliza la ejecución de una función, la variable no estará disponible para el usuario en el resto del código."
      ],
      "metadata": {
        "id": "skMq7d0_xHND"
      }
    },
    {
      "cell_type": "code",
      "source": [],
      "metadata": {
        "id": "yTOqJSgsMbdJ"
      },
      "execution_count": null,
      "outputs": []
    },
    {
      "cell_type": "markdown",
      "source": [
        "## 2.3 Funciones que retornan valores\n",
        "\n",
        "#### Formato estándar:\n",
        "\n",
        "```python\n",
        "def <nombre>(<param_1>, <param_2>, ..., <param_n>):\n",
        "  <instrucciones>\n",
        "  return resultado\n",
        "```"
      ],
      "metadata": {
        "id": "-oDFGKcA52kG"
      }
    },
    {
      "cell_type": "markdown",
      "source": [
        "Retomando la actividad anterior, podemos retornar y guardar el valor del promedio de la siguiente forma:"
      ],
      "metadata": {
        "id": "DxvT_uItbQ-q"
      }
    },
    {
      "cell_type": "code",
      "source": [
        "# Notas del estudiante\n",
        "notas = [8.5, 9.0, 6.0, 10.0]"
      ],
      "metadata": {
        "id": "GlWdnX7Ubgl3"
      },
      "execution_count": null,
      "outputs": []
    },
    {
      "cell_type": "code",
      "source": [],
      "metadata": {
        "id": "JdMFsT9GMgI6"
      },
      "execution_count": null,
      "outputs": []
    },
    {
      "cell_type": "code",
      "source": [],
      "metadata": {
        "id": "p7AwNnTCMgLf"
      },
      "execution_count": null,
      "outputs": []
    },
    {
      "cell_type": "code",
      "source": [],
      "metadata": {
        "id": "35zC247QMgRP"
      },
      "execution_count": null,
      "outputs": []
    },
    {
      "cell_type": "code",
      "source": [],
      "metadata": {
        "id": "TjmB8IWpMgV4"
      },
      "execution_count": null,
      "outputs": []
    },
    {
      "cell_type": "markdown",
      "source": [
        "#### **Situación 3:**\n",
        "\n",
        "Recibimos una nueva solicitud. Debemos calcular el promedio de un estudiante a partir de una lista y retornar tanto el promedio como la situación del estudiante (\"Aprobado(a)\" si la nota es mayor o igual a 7.0, en caso contrario, será \"Reprobado(a)\").\n",
        "\n",
        "Además de ello, necesitamos exhibir un pequeño texto para indicar el promedio del estudiante y cuál es su situación. Los datos recibidos corresponden a una lista que contiene apenas las notas de un estudiante en una materia determinada.\n",
        "\n",
        "**¿Vamos a resolver este desafío?**\n",
        "\n",
        "Para facilitar nuestra comprensión del proceso, vamos a aplicar las notas de un único estudiante; sin embargo, puedes probar otros casos para practicar."
      ],
      "metadata": {
        "id": "_awyOKOH8OOi"
      }
    },
    {
      "cell_type": "code",
      "source": [
        "# Notas del estudiante\n",
        "notas = [8.5, 9.0, 6.0, 10.0]"
      ],
      "metadata": {
        "id": "3saGo2kDf0BY"
      },
      "execution_count": null,
      "outputs": []
    },
    {
      "cell_type": "code",
      "source": [],
      "metadata": {
        "id": "unNLrdFjMjbv"
      },
      "execution_count": null,
      "outputs": []
    },
    {
      "cell_type": "code",
      "source": [],
      "metadata": {
        "id": "Rmvg4hNeMjeD"
      },
      "execution_count": null,
      "outputs": []
    },
    {
      "cell_type": "code",
      "source": [],
      "metadata": {
        "id": "jCYuFpmeMji6"
      },
      "execution_count": null,
      "outputs": []
    },
    {
      "cell_type": "code",
      "source": [],
      "metadata": {
        "id": "hSht0Z2cMjlT"
      },
      "execution_count": null,
      "outputs": []
    },
    {
      "cell_type": "code",
      "source": [],
      "metadata": {
        "id": "tLdjCulMMjnD"
      },
      "execution_count": null,
      "outputs": []
    },
    {
      "cell_type": "markdown",
      "source": [
        "## 2.4 Funciones lambda\n",
        "\n",
        "También se conocen como funciones anónimas, son funciones que no necesitan ser definidas, o sea, no poseen un nombre, y describen en una única fila los comandos que deseamos aplicar.\n",
        "\n",
        "https://docs.python.org/es/3/reference/expressions.html?#lambda\n",
        "\n",
        "#### Formato estándar:\n",
        "\n",
        "```python\n",
        "lambda <variable>: <expresion>\n",
        "```"
      ],
      "metadata": {
        "id": "hwYYRpkZMft5"
      }
    },
    {
      "cell_type": "code",
      "source": [],
      "metadata": {
        "id": "wcNxDJoPMmTJ"
      },
      "execution_count": null,
      "outputs": []
    },
    {
      "cell_type": "code",
      "source": [],
      "metadata": {
        "id": "S-baAoaQMmVy"
      },
      "execution_count": null,
      "outputs": []
    },
    {
      "cell_type": "markdown",
      "source": [
        "#### **Situación 4:**\n",
        "\n",
        "En esta nueva solicitud, necesitamos crear una calculadora simple para obtener el promedio ponderado de notas de una materia determinada. Vamos a pedir que el usuario introduzca 3 notas (N1, N2, N3) del estudiante y devuelva el promedio ponderado de este estudiante. Los pesos de las notas son de, respectivamente 3, 2 y 5.\n",
        "\n",
        "Necesitamos exhibir un pequeño texto para poder indicar el promedio del estudiante.\n",
        "**¿Vamos a resolver este desafío?**\n"
      ],
      "metadata": {
        "id": "AuRWyNXYgD_b"
      }
    },
    {
      "cell_type": "markdown",
      "source": [
        "**Resolviendo nuestro problema:**"
      ],
      "metadata": {
        "id": "vdKk3DRBmtUE"
      }
    },
    {
      "cell_type": "code",
      "source": [],
      "metadata": {
        "id": "6YxEn9aiMnYJ"
      },
      "execution_count": null,
      "outputs": []
    },
    {
      "cell_type": "code",
      "source": [],
      "metadata": {
        "id": "Ptn9gQaPMnaz"
      },
      "execution_count": null,
      "outputs": []
    },
    {
      "cell_type": "markdown",
      "source": [
        "#### **Situación 5:**\n",
        "\n",
        "Ahora, debemos crear una pequeña función que permita dar una nota cualitativa (puntaje extra) a las notas del trimestre de los estudiantes del grupo que ganó el concurso de programación realizado en la institución. Cada estudiante recibirá el cualitativo de 0.5 añadido al promedio.\n",
        "\n",
        "Los datos recibidos corresponden a una lista que contiene las notas de algunos estudiantes y una variable con el cualitativo recibido.\n",
        "\n",
        "**¿Vamos a resolver este desafío?**\n",
        "\n",
        "Para facilitar nuestra comprensión del proceso, vamos a aplicar las notas de 5 estudiantes; sin embargo, puedes probar otros casos para practicar."
      ],
      "metadata": {
        "id": "1qk0gLdfFcbf"
      }
    },
    {
      "cell_type": "code",
      "source": [
        "# Notas del estudiante\n",
        "notas = [6.0, 7.0, 9.0, 5.5, 8.0]\n",
        "cualitativo = 0.5"
      ],
      "metadata": {
        "id": "RdoaWhuVI_OB"
      },
      "execution_count": null,
      "outputs": []
    },
    {
      "cell_type": "code",
      "source": [],
      "metadata": {
        "id": "PzDfbv-kMq2t"
      },
      "execution_count": null,
      "outputs": []
    },
    {
      "cell_type": "code",
      "source": [],
      "metadata": {
        "id": "3YDQ39wFMq5u"
      },
      "execution_count": null,
      "outputs": []
    },
    {
      "cell_type": "markdown",
      "source": [
        "### Mapeando valores\n",
        "\n",
        "#### Formato estándar:\n",
        "\n",
        "```python\n",
        "map(<lambda function>, <iterador>)\n",
        "```"
      ],
      "metadata": {
        "id": "SOK4BC4mmKbG"
      }
    },
    {
      "cell_type": "code",
      "source": [],
      "metadata": {
        "id": "ZbfpvfWJMsjv"
      },
      "execution_count": null,
      "outputs": []
    },
    {
      "cell_type": "code",
      "source": [],
      "metadata": {
        "id": "TA-zGLJfMseA"
      },
      "execution_count": null,
      "outputs": []
    },
    {
      "cell_type": "code",
      "source": [],
      "metadata": {
        "id": "PrAppvR6MuKm"
      },
      "execution_count": null,
      "outputs": []
    },
    {
      "cell_type": "markdown",
      "source": [
        "# PRACTICA DE FUNCIONES"
      ],
      "metadata": {
        "id": "tosuflYme2hw"
      }
    },
    {
      "cell_type": "markdown",
      "source": [
        "Vamos a practicar lo que hemos aprendido hasta ahora resolviendo los problemas propuestos en código.\n",
        "\n",
        "Calentamiento\n",
        "\n",
        "1 - Escribe un código que lee la lista siguiente y realiza:\n",
        "\n",
        "lista = [16, 14, 63, 65, 17, 99, 70, 11, 20, 48, 79, 32, 17, 89, 12, 25, 66]\n",
        "# 1. Leer el tamaño de la lista\n",
        "# 2. Leer el valor máximo y mínimo\n",
        "# 3. Calcular la suma de los valores de la lista\n",
        "# 4. Mostrar un mensaje al final: La lista tiene `tamano` números, donde el mayor\n",
        "# es `mayor` y el menor es `menor`. La suma de los valores es `suma`.\n",
        "Copia el código\n",
        "2 - Escribe una función que genere la tabla de multiplicar de un número entero del 1 al 10, según la elección del usuario. Como ejemplo, para el número 7, la tabla de multiplicar se debe mostrar en el siguiente formato:\n",
        "\n",
        "# Tabla del  7:\n",
        "# 7 x 0 = 0\n",
        "# 7 x 1 = 7\n",
        "# [...]\n",
        "# 7 x 10 = 70\n",
        "Copia el código\n",
        "3 - Crea una función que lea la siguiente lista y devuelva una nueva lista con los múltiplos de 3:\n",
        "\n",
        "[97, 80, 94, 88, 80, 1, 16, 53, 62, 32, 24, 99]\n",
        "Copia el código\n",
        "4 - Crea una lista de los cuadrados de los números de la siguiente lista [1, 2, 3, 4, 5, 6, 7, 8, 9, 10]. Recuerda utilizar las funciones lambda y map() para calcular el cuadrado de cada elemento de la lista.\n",
        "\n",
        "Aplicando a proyectos\n",
        "\n",
        "5 - Has sido contratado como científico(a) de datos de una asociación de skate. Para analizar las notas recibidas por los skaters en algunas competiciones a lo largo del año, necesitas crear un código que calcule la puntuación de los atletas. Para ello, tu código debe recibir 5 notas ingresadas por los jueces.\n",
        "\n",
        "6 - Para cumplir con una demanda de una institución educativa para el análisis del rendimiento de sus estudiantes, necesitas crear una función que reciba una lista de 4 notas y devuelva:\n",
        "\n",
        "# mayor nota\n",
        "# menor nota\n",
        "# media\n",
        "# situación (Aprobado(a) o Reprobado(a))\n",
        "# Uso de la función\n",
        "# Mostrar: El estudiante obtuvo una media de `media`, con la mayor nota de `mayor` puntos y la menor nota de `menor` puntos y fue `situacion`.)\n",
        "Copia el código\n",
        "7 - Has recibido una demanda para tratar 2 listas con los nombres y apellidos de cada estudiante concatenándolos para presentar sus nombres completos en la forma Nombre Apellido. Las listas son:\n",
        "\n",
        "nombres = [\"juan\", \"MaRia\", \"JOSÉ\"]\n",
        "apellidos = [\"SILVA\", \"sosa\", \"Tavares\"]\n",
        "\n",
        "# Normalizar nombres y apellidos y crear una nueva lista con los nombres completos\n",
        "# Puedes apoyarte en la función map()\n",
        "Copia el código\n",
        "8 - Como científico de datos en un equipo de fútbol, necesitas implementar nuevas formas de recopilación de datos sobre el rendimiento de los jugadores y del equipo en su conjunto. Tu primera acción es crear una forma de calcular la puntuación del equipo en el campeonato nacional a partir de los datos de goles marcados y recibidos en cada juego.\n",
        "\n",
        "Escribe una función llamada calcula_puntos() que recibe como parámetros dos listas de números enteros, representando los goles marcados y recibidos por el equipo en cada partido del campeonato. La función debe devolver la puntuación del equipo y el rendimiento en porcentaje, teniendo en cuenta que la victoria vale 3 puntos, el empate 1 punto y la derrota 0 puntos.\n",
        "\n",
        "Nota: si la cantidad de goles marcados en un partido es mayor que los recibidos, el equipo ganó. En caso de ser igual, el equipo empató, y si es menor, el equipo perdió. Para calcular el rendimiento, debemos hacer la razón entre la puntuación del equipo y la puntuación máxima que podría recibir.\n",
        "\n",
        "Para la prueba, utiliza las siguientes listas de goles marcados y recibidos:\n",
        "\n",
        "goles_marcados = [2, 1, 3, 1, 0]\n",
        "goles_recibidos = [1, 2, 2, 1, 3]\n",
        "# Texto probablemente mostrado:\n",
        "# La puntuación del equipo fue `puntos` y su rendimiento fue `desempeno`%\"\n",
        "Copia el código\n",
        "9 - Te han desafiado a crear un código que calcule los gastos de un viaje a una de las cuatro ciudades desde Recife, siendo ellas: Salvador, Fortaleza, Natal y Aracaju.\n",
        "\n",
        "El costo diario del hotel es de 150 reales en todas ellas y el consumo de gasolina en el viaje en coche es de 14 km/l, siendo que el precio de la gasolina es de 5 reales por litro. Los gastos con paseos y alimentación a realizar en cada una de ellas por día serían [200, 400, 250, 300], respectivamente.\n",
        "\n",
        "Sabiendo que las distancias entre Recife y cada una de las ciudades son aproximadamente [850, 800, 300, 550] km, crea tres funciones: la primera función calcula los gastos de hotel (gasto_hotel), la segunda calcula los gastos de gasolina (gasto_gasolina) y la tercera los gastos de paseo y alimentación (gasto_paseo).\n",
        "\n",
        "Para probar, simula un viaje de 3 días a Salvador desde Recife. Considera el viaje de ida y vuelta en coche.\n",
        "\n",
        "# Texto probablemente mostrado:\n",
        "# Con base en los gastos definidos, un viaje de [dias] días a [ciudad] desde\n",
        "# Recife costaría [gastos] reales.\n",
        "Copia el código\n",
        "10 - Has comenzado una pasantía en una empresa que trabaja con procesamiento de lenguaje natural (NLP). Tu líder te solicitó que crees un fragmento de código que reciba una frase escrita por el usuario y filtre solo las palabras con un tamaño mayor o igual a 5, mostrándolas en una lista. Esta demanda se centra en el análisis del patrón de comportamiento de las personas al escribir palabras de esta cantidad de caracteres o más.\n",
        "\n",
        "Consejo: utiliza las funciones lambda y filter() para filtrar estas palabras. Recordando que la función integrada filter() recibe una función (en nuestro caso, una función lambda) y filtra un iterable según la función. Para tratar la frase, utiliza replace() para cambiar ',' '.', '!' y '?' por espacio.\n",
        "\n",
        "Utiliza la frase \"Aprender Python aquí en Alura es muy bueno\" para probar el código.\n",
        "\n",
        "Ver opinión del instructor\n",
        "Opinión del instructor\n",
        "\n",
        "A continuación te presentamos las posibles respuestas al desafío propuesto:\n",
        "\n",
        "1 - Escribe un código que lee la lista siguiente y realiza:\n",
        "\n",
        "lista = [16, 14, 63, 65, 17, 99, 70, 11, 20, 48, 79, 32, 17, 89, 12, 25, 66]\n",
        "\n",
        "# Leer el tamaño de la lista\n",
        "tam = len(lista)\n",
        "\n",
        "# Leer el valor máximo y mínimo\n",
        "mayor = max(lista)\n",
        "menor = min(lista)\n",
        "\n",
        "# Calcular la suma de los valores de la lista\n",
        "soma = sum(lista)\n",
        "\n",
        "# Mostrar un mensaje al final\n",
        "print(f\"La lista tiene {tam} números, donde el mayor es {mayor} y el menor es {menor}. La suma de los valores es {soma}\")\n",
        "Copia el código\n",
        "2 - Escribe una función que genere la tabla de multiplicar de un número entero del 1 al 10, según la elección del usuario. Como ejemplo, para el número 7, la tabla de multiplicar se debe mostrar en el siguiente formato:\n",
        "\n",
        "def tabla_multiplicar(numero):\n",
        "    print(f\"Tabla de multiplicar del {numero}:\")\n",
        "    for i in range(11):\n",
        "        print(f\"{numero} x {i} = {numero * i}\")\n",
        "\n",
        "# Uso de la función\n",
        "tabla_multiplicar(7)\n",
        "Copia el código\n",
        "3 - Crea una función que lea la siguiente lista y devuelva una nueva lista con los múltiplos de 3:\n",
        "\n",
        "def multiplos_de_tres(lista):\n",
        "    return [num for num in lista if num % 3 == 0]\n",
        "\n",
        "# Uso de la función\n",
        "lista_original = [97, 80, 94, 88, 80, 1, 16, 53, 62, 32, 24, 99]\n",
        "mult_3 = multiplos_de_tres(lista_original)\n",
        "print(mult_3)\n",
        "Copia el código\n",
        "4 - Crea una lista de los cuadrados de los números de la siguiente lista [1, 2, 3, 4, 5, 6, 7, 8, 9, 10]. Recuerda utilizar las funciones lambda y map() para calcular el cuadrado de cada elemento de la lista.\n",
        "\n",
        "numeros = [1, 2, 3, 4, 5, 6, 7, 8, 9, 10]\n",
        "cuadrados = list(map(lambda x: x**2, numeros))\n",
        "print(cuadrados)\n",
        "Copia el código\n",
        "5 - Has sido contratado como científico(a) de datos de una asociación de skate. Para analizar las notas recibidas por los skaters en algunas competiciones a lo largo del año, necesitas crear un código que calcule la puntuación de los atletas. Para ello, tu código debe recibir 5 notas ingresadas por los jueces.\n",
        "\n",
        "notas = [float(input(f\"Ingrese la nota {i + 1}: \")) for i in range(5)]\n",
        "notas.sort()\n",
        "media = sum(notas[1:4]) / 3\n",
        "print(f\"Nota de la maniobra: {media:.2f}\")\n",
        "Copia el código\n",
        "6 - Para cumplir con una demanda de una institución educativa para el análisis del rendimiento de sus estudiantes, necesitas crear una función que reciba una lista de 4 notas y devuelva:\n",
        "\n",
        "def analisis_notas(notas):\n",
        "    mayor = max(notas)\n",
        "    menor = min(notas)\n",
        "    media = sum(notas) / len(notas)\n",
        "    situacion = \"Aprobado\" if media >= 6 else \"Reprobado\"\n",
        "    return mayor, menor, media, situacion\n",
        "\n",
        "# Uso de la función\n",
        "notas_estudiante = [float(input(f\"Ingrese la nota {i + 1}: \")) for i in range(4)]\n",
        "resultado = analisis_notas(notas_estudiante)\n",
        "print(f\"El estudiante obtuvo una media de {resultado[2]:.2f}, con la mayor nota de {resultado[0]:.2f} puntos y la menor nota de {resultado[1]:.2f} puntos y fue {resultado[3]}\")\n",
        "Copia el código\n",
        "7 - Has recibido una demanda para tratar 2 listas con los nombres y apellidos de cada estudiante concatenándolos para presentar sus nombres completos en la forma Nombre Apellido. Las listas son:\n",
        "\n",
        "nombres = [\"juan\", \"MaRia\", \"JOSÉ\"]\n",
        "sobrenombres = [\"SILVA\", \"sosa\", \"Tavares\"]\n",
        "\n",
        "# Normalizar nombres y apellidos y crear una nueva lista con los nombres completos\n",
        "nombres_normalizados = map(lambda x: x.capitalize(), nombres)\n",
        "sobrenombres_normalizados = map(lambda x: x.capitalize(), sobrenombres)\n",
        "nombres_completos = list(map(lambda x, y: f\"Nome completo: {x} {y}\", nombres_normalizados, sobrenombres_normalizados))\n",
        "print(nombres_completos)\n",
        "Copia el código\n",
        "8 - Una posible solución a este punto la encuentras a continuación:\n",
        "\n",
        "goles_marcados = [2, 1, 3, 1, 0]\n",
        "goles_sofridos = [1, 2, 2, 1, 3]\n",
        "\n",
        "def calcula_puntos(goles_marcados, goles_sofridos):\n",
        "  puntos = 0\n",
        "  for i in range(len(goles_marcados)):\n",
        "    if goles_marcados[i] > goles_sofridos[i]:\n",
        "      puntos += 3\n",
        "    elif goles_marcados[i] == goles_sofridos[i]:\n",
        "      puntos += 1\n",
        "  aprob = 100 * puntos / (len(goles_marcados) * 3)\n",
        "  return (puntos, aprob)\n",
        "\n",
        "puntos, aprob = calcula_puntos(goles_marcados, goles_sofridos)\n",
        "print(f\"La puntuación del equipo fue de {puntos} y su rendimiento fue de {round(aprob)}%\")\n",
        "Copia el código\n",
        "9 - Una posible solución a este punto la encuentras a continuación:\n",
        "\n",
        "dias = int(input(\"¿Cuántas diarias? \"))\n",
        "ciudad = input(\"¿Cuál es la ciudad? [Salvador, Fortaleza, Natal o Aracaju]: \")\n",
        "distancias = [850, 800, 300, 550]\n",
        "paseo = [200, 400, 250, 300]\n",
        "km_l = 14\n",
        "gasolina = 5\n",
        "\n",
        "def gasto_hotel(dias):\n",
        "    return 150 * dias\n",
        "\n",
        "def gasto_gasolina(ciudad):\n",
        "    if ciudad == \"Salvador\":\n",
        "        return (2 * distancias[0] * gasolina) / km_l\n",
        "    elif ciudad == \"Fortaleza\":\n",
        "        return (2 * distancias[1] * gasolina) / km_l\n",
        "    elif ciudad == \"Natal\":\n",
        "        return (2 * distancias[2] * gasolina) / km_l\n",
        "    elif ciudad == \"Aracaju\":\n",
        "        return (2 * distancias[3] * gasolina) / km_l\n",
        "\n",
        "def gasto_paseo(ciudad, dias):\n",
        "    if ciudad==\"Salvador\":\n",
        "        return paseo[0] * dias\n",
        "    elif ciudad==\"Fortaleza\":\n",
        "        return paseo[1] * dias\n",
        "    elif ciudad==\"Natal\":\n",
        "        return paseo[2] * dias\n",
        "    elif ciudad==\"Aracaju\":\n",
        "        return paseo[3] * dias\n",
        "\n",
        "gastos = gasto_hotel(dias) + gasto_gasolina(ciudad) + gasto_paseo(ciudad, dias)\n",
        "print(f\"Con base en los gastos definidos, un viaje de {dias} días a {ciudad} desde Recife costaría {round(gastos, 2)} reales\")\n",
        "Copia el código\n",
        "10 - Una posible solución a este punto la encuentras a continuación:\n",
        "\n",
        "# Solicitando una frase y separándola por espacios. Usando replace para cambiar\n",
        "# puntuaciones por espacios.\n",
        "frase = input(\"Escribe una frase: \")\n",
        "frase = frase.replace(',',' ').replace('.',' ').replace('!',' ').replace('?',' ').split()\n",
        "\n",
        "# Filtrando la frase en formato de lista, pasando a la lista tamaño\n",
        "# solo las palabras con 5 o más caracteres e imprimiéndola en pantalla\n",
        "tamano = list(filter(lambda x: len(x) >= 5, frase))\n",
        "print(tamano)\n",
        "Copia el código\n",
        "Practicar es importante para fijar el contenido, desarrollar habilidades de programación, identificar puntos que aún no han sido comprendidos, prepararse para desafíos futuros y desarrollar pensamiento lógico y resolución de problemas.\n",
        "\n",
        "Pensando en esto, es importante hacer ejercicios cuando se está aprendiendo una nueva herramienta. Por lo tanto, busca practicar a través de los ejercicios propuestos y observa cómo esto puede ayudarte a progresar en tus habilidades en ciencia de datos."
      ],
      "metadata": {
        "id": "tY2Kd-sce6wJ"
      }
    },
    {
      "cell_type": "markdown",
      "source": [
        "## <font color=green> 3. ESTRUCTURAS DE DATOS COMPUESTAS\n",
        "---"
      ],
      "metadata": {
        "id": "DoB6wf2JCYf7"
      }
    },
    {
      "cell_type": "markdown",
      "source": [
        "## 3.1 Estructuras anidadas\n",
        "\n",
        "Previamente, aprendimos a manipular las listas, tuplas y diccionarios para trabajar con una secuencia o colección de valores sean numéricos, categóricos, etc. En esta aula, vamos a profundizar en otra situación común para la persona científica de datos que es trabajar con estos tipos de estructuras anidadas, o sea, cuando, por ejemplo, tenemos listas dentro de una lista."
      ],
      "metadata": {
        "id": "3or6MbnZDW_b"
      }
    },
    {
      "cell_type": "markdown",
      "source": [
        "### **Lista de listas**\n",
        "\n",
        "#### Formato estándar:\n",
        "\n",
        "```python\n",
        "[[a1, a2,...,an], [b1, b2,...,bn], ..., [n1, n2,...,nn]]\n",
        "```"
      ],
      "metadata": {
        "id": "fddus1G9HqB3"
      }
    },
    {
      "cell_type": "markdown",
      "source": [
        "#### **Situación 6:**\n",
        "\n",
        "Recibimos la demanda de transformar una lista con el nombre y las notas de tres trimestres de algunos estudiantes en una lista simple, con los nombres separados de las notas, y una lista de listas con las tres notas de cada estudiante separadas entre sí. Los datos recibidos corresponden a una lista con los nombres y las respectivas notas de cada estudiante.\n",
        "\n",
        "**¿Vamos a resolver este desafío?**\n",
        "\n",
        "Para facilitar nuestra comprensión del proceso, vamos a trabajar con un grupo de 5 estudiantes; sin embargo, puedes probar otros casos para practicar.\n"
      ],
      "metadata": {
        "id": "32K5LA11tFpz"
      }
    },
    {
      "cell_type": "code",
      "source": [
        "notas_grupo = ['Juan', 8.0, 9.0, 10.0, 'Maria', 9.0, 7.0, 6.0, 'José', 3.4, 7.0, 7.0, 'Claudia', 5.5, 6.6, 8.0, 'Ana', 6.0, 10.0, 9.5]"
      ],
      "metadata": {
        "id": "jlEP-c2YthpB"
      },
      "execution_count": null,
      "outputs": []
    },
    {
      "cell_type": "code",
      "source": [],
      "metadata": {
        "id": "azR_cX-ILghB"
      },
      "execution_count": null,
      "outputs": []
    },
    {
      "cell_type": "code",
      "source": [],
      "metadata": {
        "id": "GhfsJvs9LgjY"
      },
      "execution_count": null,
      "outputs": []
    },
    {
      "cell_type": "code",
      "source": [],
      "metadata": {
        "id": "tB8FA20gLiog"
      },
      "execution_count": null,
      "outputs": []
    },
    {
      "cell_type": "code",
      "source": [],
      "metadata": {
        "id": "SCi8Jl82Liqo"
      },
      "execution_count": null,
      "outputs": []
    },
    {
      "cell_type": "markdown",
      "source": [
        "### **Lista de tuplas**\n",
        "\n",
        "#### Formato estándar:\n",
        "\n",
        "```python\n",
        "[(a1, a2,...,an), (b1, b2,...,bn), ..., (n1, n2,...,nn)]\n",
        "```"
      ],
      "metadata": {
        "id": "SW0sVg68sK_z"
      }
    },
    {
      "cell_type": "markdown",
      "source": [
        "#### **Situación 7:**\n",
        "\n",
        "Necesitamos generar una lista de tuplas con los nombres de los estudiantes y el código ID de cada uno de ellos para la plataforma de análisis de datos. La creación del código consiste en concatenar la primera letra del nombre del estudiante con un número aleatorio de 0 a 999. Los datos recibidos corresponden a una lista con los nombres de cada estudiante.\n",
        "\n",
        "**¿Vamos a resolver este desafío?**\n",
        "\n",
        "Para facilitar nuestra comprensión del proceso, vamos a trabajar con un grupo de 5 estudiantes; sin embargo, puedes probar otros casos para practicar.\n"
      ],
      "metadata": {
        "id": "OId6jAZz5x2m"
      }
    },
    {
      "cell_type": "code",
      "source": [],
      "metadata": {
        "id": "YA1zJ0G6LkTy"
      },
      "execution_count": null,
      "outputs": []
    },
    {
      "cell_type": "code",
      "source": [],
      "metadata": {
        "id": "yBzPwhGiLkWa"
      },
      "execution_count": null,
      "outputs": []
    },
    {
      "cell_type": "code",
      "source": [],
      "metadata": {
        "id": "9qgGAjSyLndK"
      },
      "execution_count": null,
      "outputs": []
    },
    {
      "cell_type": "code",
      "source": [],
      "metadata": {
        "id": "jVRxtOyeLngM"
      },
      "execution_count": null,
      "outputs": []
    },
    {
      "cell_type": "markdown",
      "source": [
        "## 3.2 List comprehension\n",
        "\n",
        "Es una forma simple y concisa de crear una lista. Podemos aplicar condicionales y lazos para crear diversos tipos de listas a partir de patrones que deseamos para nuestra estructura de datos.\n",
        "\n",
        "https://docs.python.org/es/3/tutorial/datastructures.html?#list-comprehensions\n",
        "\n",
        "#### Formato estándar:\n",
        "\n",
        "```python\n",
        "[expresion for item in lista]\n",
        "```"
      ],
      "metadata": {
        "id": "srHAov19QCdb"
      }
    },
    {
      "cell_type": "markdown",
      "source": [
        "#### **Situación 8:**\n",
        "\n",
        "Recibimos la demanda de crear una lista con el promedio de los estudiantes de la lista de listas que creamos en la Situación 6, redondeando el promedio a una casilla decimal. Recordando que cada lista de la lista de listas contiene las tres notas de cada estudiante.\n",
        "\n",
        "**¿Vamos a resolver este desafío?**\n",
        "\n",
        "**Tip:** Utiliza el formato:\n",
        "```python\n",
        "[expresion for item in lista]\n",
        "```"
      ],
      "metadata": {
        "id": "l4HW0gDqecgM"
      }
    },
    {
      "cell_type": "code",
      "source": [
        "def promedio(lista: list=[0]) -> float:\n",
        "  ''' Función para calcular el promedio de notas en una lista\n",
        "\n",
        "  lista: list, default [0]\n",
        "    Lista con las notas para calcular el promedio\n",
        "  return = calculo: float\n",
        "    Promedio calculado\n",
        "  '''\n",
        "\n",
        "  calculo = sum(lista) / len(lista)\n",
        "\n",
        "  return calculo"
      ],
      "metadata": {
        "id": "J_atQRQdlpNe"
      },
      "execution_count": null,
      "outputs": []
    },
    {
      "cell_type": "code",
      "source": [],
      "metadata": {
        "id": "h7LeBrgnLAG6"
      },
      "execution_count": null,
      "outputs": []
    },
    {
      "cell_type": "code",
      "source": [],
      "metadata": {
        "id": "3j8_H7e8LAJZ"
      },
      "execution_count": null,
      "outputs": []
    },
    {
      "cell_type": "markdown",
      "source": [
        "#### **Situación 9:**\n",
        "\n",
        "Ahora, necesitamos utilizar los promedios calculados en el ejemplo anterior, y agruparlos con el nombre de los respectivos estudiantes. Esto será necesario para generar una lista que seleccione a aquellos estudiantes que posean un promedio final mayor o igual a 8 para concursar por una beca de estudios para el próximo año lectivo. Los datos recibidos corresponden a una lista de tuplas con los nombres y los códigos de los estudiantes junto a la lista de promedios calculados previamente.\n",
        "\n",
        "**Nota: El número de código será diferente cada vez que se ejecute la celda que los genera, por lo tanto, es completamente normal que estos códigos sean diferentes.**\n",
        "\n",
        "**¿Vamos a resolver este desafío?**\n",
        "\n",
        "Para facilitar nuestra comprensión del proceso vamos a trabajar con un grupo de 5 estudiantes.\n",
        "\n",
        "**Tip:** Utiliza el formato:\n",
        "\n",
        "```python\n",
        "[expresion for item in lista if condicion]\n",
        "```"
      ],
      "metadata": {
        "id": "ApLjXlAdhJKd"
      }
    },
    {
      "cell_type": "code",
      "source": [],
      "metadata": {
        "id": "QK-ubmmrLC7I"
      },
      "execution_count": null,
      "outputs": []
    },
    {
      "cell_type": "code",
      "source": [],
      "metadata": {
        "id": "df1Q8GGELC9b"
      },
      "execution_count": null,
      "outputs": []
    },
    {
      "cell_type": "markdown",
      "source": [
        "<font color=green>**Tip:**</font> Para lograr parear los promedios y\n",
        "los nombres fácilmente, podemos acudir a otra  built-in function: `zip()`\n",
        "\n",
        "Esta recibe uno o más iterables (lista, string, dict, etc.) y los retorna como un iterador de tuplas donde cada elemento de los iterables es pareado."
      ],
      "metadata": {
        "id": "U6KAABs7Dfpe"
      }
    },
    {
      "cell_type": "code",
      "source": [],
      "metadata": {
        "id": "841v92WvLEol"
      },
      "execution_count": null,
      "outputs": []
    },
    {
      "cell_type": "code",
      "source": [],
      "metadata": {
        "id": "U8b4G_2oLErp"
      },
      "execution_count": null,
      "outputs": []
    },
    {
      "cell_type": "markdown",
      "source": [
        "#### **Situación 10:**\n",
        "\n",
        "Recibimos dos demandas sobre este proyecto con las notas de los estudiantes:\n",
        "- Crear una lista de la situación de los estudiantes considerando los siguientes casos: Si su promedio es mayor o igual a 7, recibirá el valor \"Aprobado\" y en caso contrario recibirá el valor \"Reprobado\".\n",
        "- Generar una lista de listas con:\n",
        "  - Lista de tuplas con el nombre de los estudiantes y sus códigos\n",
        "  - Lista de listas con las notas de cada estudiante\n",
        "  - Lista con los promedios de cada estudiante\n",
        "  - Lista de la situación de los estudiantes de acuerdo con los promedios\n",
        "\n",
        "Los datos que utilizaremos son los mismos que generamos en las situaciones anteriores (`nombres`, `notas`, `promedios`).\n",
        "\n",
        "**¿Vamos a resolver este desafío?**\n",
        "\n",
        "Para avanzar en el proceso, vamos a dejar escritas las estructuras de datos que ya produjimos.\n",
        "\n",
        "**Tip:** Para la lista de las situaciones utiliza el formato:\n",
        "```python\n",
        "[resultado_if if condicion else resultado_else for item in lista]\n",
        "```"
      ],
      "metadata": {
        "id": "9yzRDIB0fkeF"
      }
    },
    {
      "cell_type": "code",
      "source": [],
      "metadata": {
        "id": "YGQIaCzkLGqd"
      },
      "execution_count": null,
      "outputs": []
    },
    {
      "cell_type": "code",
      "source": [],
      "metadata": {
        "id": "OAAQHwE1LGs2"
      },
      "execution_count": null,
      "outputs": []
    },
    {
      "cell_type": "markdown",
      "source": [
        "**Tip:** Para generar la lista de listas del enunciado podemos utilizar el siguiente formato:\n",
        "```python\n",
        "[expresion for item in lista de listas]\n",
        "```"
      ],
      "metadata": {
        "id": "0XsAi49IF9Ta"
      }
    },
    {
      "cell_type": "code",
      "source": [],
      "metadata": {
        "id": "1Dj6R1vTLIbI"
      },
      "execution_count": null,
      "outputs": []
    },
    {
      "cell_type": "code",
      "source": [],
      "metadata": {
        "id": "cTLEQQ2eLIqc"
      },
      "execution_count": null,
      "outputs": []
    },
    {
      "cell_type": "markdown",
      "source": [
        "<font color=green>**Tip:**</font> Podemos acudir a la forma más simple de generación de lista de listas con el uso directo de los corchetes sin la necesidad de utilizar las expresiones y el lazo `for` que se emplea en la comprensión de listas."
      ],
      "metadata": {
        "id": "4hkHEZGbGH7X"
      }
    },
    {
      "cell_type": "code",
      "source": [],
      "metadata": {
        "id": "1tEtWzSoLKKg"
      },
      "execution_count": null,
      "outputs": []
    },
    {
      "cell_type": "code",
      "source": [],
      "metadata": {
        "id": "lRk02Bm5LMB3"
      },
      "execution_count": null,
      "outputs": []
    },
    {
      "cell_type": "markdown",
      "source": [
        "## 3.3 Dict comprehension\n",
        "\n",
        "Es una forma simple y concisa de crear o modificar un diccionario. Podemos aplicar condicionales y lazos para crear diversos tipos de diccionarios a partir de los patrones que buscamos para nuestra estructura de datos y con el soporte de iterables como listas o sets.\n",
        "\n",
        "https://peps.python.org/pep-0274/\n",
        "\n",
        "#### Formato estándar:\n",
        "\n",
        "```python\n",
        "{llave: valor for item in lista}\n",
        "```"
      ],
      "metadata": {
        "id": "NmohhDl-QRpx"
      }
    },
    {
      "cell_type": "markdown",
      "source": [
        "#### **Situación 11:**\n",
        "\n",
        "Ahora, nuestra demanda consiste en generar un diccionario a partir de la lista de listas que creamos en la Situación 10 para entregar a la persona responsable por construir las tablas para el análisis de los datos.\n",
        "- Las llaves de nuestro diccionario serán las columnas identificando el tipo de dato\n",
        "- Los valores serán las listas con los datos correspondientes a aquella llave.\n",
        "\n",
        "**¿Vamos a resolver este desafío?**\n",
        "\n",
        "Para facilitar nuestra comprensión del proceso vamos a trabajar con un grupo de 5 estudiantes.\n",
        "\n",
        "**Tip:** Utiliza el formato\n",
        "\n",
        "```python\n",
        "{llave: valor for item in lista}\n",
        "```"
      ],
      "metadata": {
        "id": "kGt8hQXOKeIt"
      }
    },
    {
      "cell_type": "code",
      "source": [],
      "metadata": {
        "id": "GuTwYw8NLNST"
      },
      "execution_count": null,
      "outputs": []
    },
    {
      "cell_type": "code",
      "source": [],
      "metadata": {
        "id": "Ka1JPCuvLP4x"
      },
      "execution_count": null,
      "outputs": []
    },
    {
      "cell_type": "code",
      "source": [],
      "metadata": {
        "id": "4GhlzfLbLP8L"
      },
      "execution_count": null,
      "outputs": []
    },
    {
      "cell_type": "markdown",
      "source": [
        "# Practica de estructuras anidadas"
      ],
      "metadata": {
        "id": "PW5D4GJO15gv"
      }
    },
    {
      "cell_type": "markdown",
      "source": [
        "1 - Crea un código para imprimir la suma de los elementos de cada una de las listas contenidas en la siguiente lista:\n",
        "\n",
        "lista_de_listas = [[4, 6, 5, 9], [1, 0, 7, 2], [3, 4, 1, 8]]\n",
        "Copia el código\n",
        "2 - Crea un código para generar una lista que almacene el tercer elemento de cada tupla contenida en la siguiente lista de tuplas:\n",
        "\n",
        "lista_de_tuplas = [('Pedro', 1.74, 81), ('Júlia', 1.65, 67), ('Otávio', 1.81, 83)]\n",
        "Copia el código\n",
        "3 - A partir de la lista: lista = ['Pedro', 'Júlia', 'Otávio', 'Eduardo'], crea un código para generar una lista de tuplas en la que cada tupla tenga el primer elemento como la posición del nombre en la lista original y el segundo elemento siendo el propio nombre.\n",
        "\n",
        "4 - Crea una lista usando la comprensión de listas (list comprehension) que almacene solo el valor numérico de cada tupla en caso de que el primer elemento sea 'Apartamento', a partir de la siguiente lista de tuplas:\n",
        "\n",
        "alquiler = [('Apartamento', 1700), ('Apartamento', 1400), ('Casa', 2150), ('Apartamento', 1900), ('Casa', 1100)]\n",
        "Copia el código\n",
        "5 - Crea un diccionario usando la comprensión de diccionarios (dict comprehension) en el que las claves estén en la lista meses = ['Jan', 'Fev', 'Mar', 'Abr', 'Mai', 'Jun', 'Jul', 'Ago', 'Set', 'Out', 'Nov', 'Dez'] y los valores estén en gasto = [860, 490, 1010, 780, 900, 630, 590, 770, 620, 560, 840, 360].\n",
        "\n",
        "6 - Una tienda tiene una base de datos con la información de venta de cada representante y de cada año y necesita filtrar solo los datos del año 2022 con ventas mayores a 6000. La tienda proporcionó una muestra con solo las columnas de los años y los valores de venta para que puedas ayudar a realizar la filtración de los datos a través de un código:\n",
        "\n",
        "ventas = [('2023', 4093), ('2021', 4320), ('2021', 5959), ('2022', 8883), ('2023', 9859), ('2022', 5141), ('2022', 7688), ('2022', 9544), ('2023', 4794), ('2021', 7178), ('2022', 3030), ('2021', 7471), ('2022', 4226), ('2022', 8190), ('2021', 9680), ('2022', 5616)]\n",
        "Copia el código\n",
        "Crea una lista usando la comprensión de listas para filtrar los valores de 2022 que sean mayores a 6000.\n",
        "\n",
        "7 - Una clínica analiza datos de pacientes y almacena el valor numérico de la glucosa en una base de datos y le gustaría etiquetar los datos de la siguiente manera:\n",
        "\n",
        "Glucosa igual o inferior a 70: 'Hipoglicemia'\n",
        "Glucosa entre 70 y 99: 'Normal'\n",
        "Glucosa entre 100 y 125: 'Alterada'\n",
        "Glucosa superior a 125: 'Diabetes'\n",
        "La clínica proporcionó parte de los valores y tu tarea es crear una lista de tuplas usando la comprensión de listas que contenga la etiqueta y el valor de la glucemia en cada tupla.\n",
        "\n",
        "glicemia = [129, 82, 60, 97, 101, 65, 62, 167, 87, 53, 58, 92, 66, 120, 109, 62, 86, 96, 103, 88, 155, 52, 89, 73]\n",
        "Copia el código\n",
        "8 - Un comercio electrónico tiene información de id de venta, cantidad vendida y precio del producto divididos en las siguientes listas:\n",
        "\n",
        "id = [0, 1, 2, 3, 4, 5, 6, 7, 8, 9]\n",
        "cantidad = [15, 12, 1, 15, 2, 11, 2, 12, 2, 4]\n",
        "precio = [93.0, 102.0, 18.0, 41.0, 122.0, 14.0, 71.0, 48.0, 14.0, 144.0]\n",
        "Copia el código\n",
        "La plataforma necesita estructurar estos datos en una tabla que contenga el valor total de la venta, que se obtiene multiplicando la cantidad por el precio unitario. Además, la tabla debe contener un encabezado indicando las columnas: 'id', 'cantidad', 'precio' y 'total'.\n",
        "\n",
        "Crea una lista de tuplas en la que cada tupla tenga id, cantidad, precio y valor total, siendo la primera tupla el encabezado de la tabla.\n",
        "\n",
        "9 - Una empresa tiene sucursales distribuidas en los estados de la región Sudeste de Brasil. En una de las tablas de registro de las sucursales, hay una columna que contiene la información de a qué estado pertenece: estados =['CMX', 'OAX', 'PUE', 'PUE', 'CMX', 'PUE', 'OAX', 'OAX', 'OAX', 'CMX', 'CMX', 'PUE', 'OAX', 'CMX', 'VER', 'PUE', 'VER', 'CMX', 'PUE', 'CMX', 'OAX', 'CMX', 'PUE'].\n",
        "\n",
        "La empresa siempre está abriendo nuevas sucursales, por lo que la tabla está constantemente recibiendo nuevos registros y al gerente le gustaría tener la información actualizada de la cantidad de sucursales en cada estado.\n",
        "\n",
        "A partir de la columna con la información de los estados, crea un diccionario utilizando la comprensión de diccionarios (dict comprehension) con la clave siendo el nombre de un estado y el valor siendo la cantidad de veces que aparece el estado en la lista.\n",
        "\n",
        "Consejo: Puedes hacer un paso intermedio para generar una lista de listas en la que cada una de las listas tenga el nombre de solo un estado con valores repetidos.\n",
        "\n",
        "10 - En esa misma tabla de registro de sucursales, hay una columna con la información de la cantidad de personas empleadas y el gerente quisiera tener un agrupamiento de la suma de esas personas para cada estado. Las informaciones contenidas en la tabla son:\n",
        "\n",
        " empleados = [('CMX', 16), ('OAX', 8), ('PUE', 9), ('PUE', 6), ('CMX', 10), ('PUE', 4), ('OAX',9),  ('OAX', 7), ('OAX', 12), ('CMX', 7), ('CMX', 11), ('PUE',8), ('OAX',8), ('CMX',9), ('VER', 13), ('PUE', 5),  ('VER', 9), ('CMX', 12), ('PUE', 10), ('CMX', 7), ('OAX', 14), ('CMX', 10), ('PUE', 12)]\n",
        "Copia el código\n",
        "A partir de la lista de tuplas, crea un diccionario en el que las claves son los nombres de los estados únicos y los valores son las listas con el número de empleados referentes al estado. También crea un diccionario en el que las claves son los nombres de los estados y los valores son la suma de empleados por estado.\n",
        "\n",
        "Ver opinión del instructor\n",
        "Opinión del instructor\n",
        "\n",
        "A continuación te presentamos las posibles soluciones al desafío propuesto:\n",
        "\n",
        "1 -\n",
        "\n",
        "for lista in lista_de_listas:\n",
        "    print(sum(lista))\n",
        "Copia el código\n",
        "2 -\n",
        "\n",
        "lista = []\n",
        "for tupla in lista_de_tuplas:\n",
        "    lista.append(tupla[2])\n",
        "print(lista)\n",
        "Copia el código\n",
        "3 -\n",
        "\n",
        "lista_de_tuplas = []\n",
        "for i in range(len(lista)):\n",
        "    lista_de_tuplas.append((i, lista[i]))\n",
        "print(lista_de_tuplas)\n",
        "Copia el código\n",
        "4 -\n",
        "\n",
        "lista = [tupla[1] for tupla in alquiler if tupla[0]== 'Apartamento']\n",
        "print(lista)\n",
        "Copia el código\n",
        "5 -\n",
        "\n",
        "diccionario = {meses[i]: gasto[i] for i in range(len(meses))}\n",
        "print(diccionario)\n",
        "Copia el código\n",
        "6 -\n",
        "\n",
        "filtro = [tupla[1] for tupla in ventas if tupla[0] == '2022' and tupla[1] > 6000]\n",
        "print(filtro)\n",
        "Copia el código\n",
        "7 -\n",
        "\n",
        "etiquetas = [('Hipoglicemia', glucosa) if glucosa<= 70 else ('Normal', glucosa) if glucosa< 100 else ('Alterada', glucosa) if glucosa< 125 else ('Diabetes', glucosa) for glucosa in glicemia]\n",
        "print(etiquetas)\n",
        "Copia el código\n",
        "8 -\n",
        "\n",
        "tabla = [('id', 'cantidad', 'precio', 'total')]\n",
        "tabla += [(id[i], cantidad[i], precio[i], cantidad[i]*precoo[i]) for i in range(len(id))]\n",
        "Copia el código\n",
        "9 -\n",
        "\n",
        "# Almacenando los estados sin repetición de valor\n",
        "estados_unicos = list(set(estados))\n",
        "\n",
        "# Creando una lista de listas con valores repetidos de cada estado\n",
        "lista_de_listas = []\n",
        "for estado in estados_unicos:\n",
        "    lista = [e for e in estados if e == estado]\n",
        "    lista_de_listas.append(lista)\n",
        "print(lista_de_listas)\n",
        "\n",
        "# Creando un diccionario en el que la clave es el nombre de cada estado único y el valor es la cantidad de elementos\n",
        "conteo_valores = {estados_unicos[i]: len(lista_de_listas[i]) for i in range(len(estados_unicos))}\n",
        "print(conteo_valores)\n",
        "Copia el código\n",
        "10 -\n",
        "\n",
        "# Almacenando los estados sin repetición de valor\n",
        "estados_unicos = list(set([tupla[0] for tupla in empleados]))\n",
        "\n",
        "# Creando una lista de listas con valores de empleados de cada estado\n",
        "lista_de_listas = []\n",
        "for estado in estados_unicos:\n",
        "    lista = [tupla[1] for tupla in empleados if tupla[0] == estado]\n",
        "    lista_de_listas.append(lista)\n",
        "print(lista_de_listas)\n",
        "\n",
        "# Creando un diccionario con datos agrupados de empleados por estado\n",
        "agrupamiento_por_estado = {estados_unicos[i]: lista_de_listas[i] for i in range(len(estados_unicos))}\n",
        "print(agrupamiento_por_estado)\n",
        "\n",
        "# Creando un diccionario con la suma de empleados por estado\n",
        "suma_por_estado = {estados_unicos[i]: sum(lista_de_listas[i]) for i in range(len(estados_unicos))}\n",
        "print(suma_por_estado)"
      ],
      "metadata": {
        "id": "Z5DC9OeU1-LP"
      }
    },
    {
      "cell_type": "markdown",
      "source": [
        "## <font color=green> 4. LIDIANDO CON EXCEPCIONES\n",
        "---"
      ],
      "metadata": {
        "id": "RxKC5WVoCYp3"
      }
    },
    {
      "cell_type": "markdown",
      "source": [
        "Hemos podido evidenciar hasta aquí la existencia de algunos errores y excepciones en la ejecución de algún comando. Como científico/a de datos o programador, necesitarás estar atento a estas situaciones para evitar bugs o problemas en tus códigos y análisis que puedan afectar la experiencia tanto del usuario como la eficiencia de su análisis.\n",
        "\n",
        "Existen básicamente dos formas distintas de errores: Los **errores de sintáxis** y las **excepciones**.\n",
        "\n",
        "Las excepciones son errores detectados durante la ejecución e interrumpen el flujo del programa cerrándolo en caso de que no sean tratadas.  \n",
        "\n",
        "Vamos a aprender a identificar y tratar algunas de las excepciones aquí, pero es siempre importante consultar la documentación para investigar y verificar cuáles se ajustan a sus proyectos.\n",
        "\n",
        "**Documentación sobre errores y excepciones:** https://docs.python.org/es/3/tutorial/errors.html"
      ],
      "metadata": {
        "id": "MzOZ_0M3CU1x"
      }
    },
    {
      "cell_type": "markdown",
      "source": [
        "## 4.1 Tratando las Excepciones\n",
        "\n",
        "El tratamiento de las excepciones contribuye a establecer un flujo alternativo para la ejecución del código evitando la interrupción de los procesos inesperadamente.\n",
        "\n",
        "Existe una serie de excepciones, y a partir del comportamiento que queremos, y de los errores que queremos tratar, es posible construir un camino para el usuario, o también, proveer más detalles sobre aquella excepción.\n",
        "\n",
        "- Jerarquía de las excepciones (https://docs.python.org/es/3/library/exceptions.html#exception-hierarchy)"
      ],
      "metadata": {
        "id": "x3E66krBST7K"
      }
    },
    {
      "cell_type": "markdown",
      "source": [
        "### Try ... Except\n",
        "\n",
        "```python\n",
        "try:\n",
        "  # código que será ejecutado. En caso de que surja una excepción, para inmediatamente\n",
        "except <nombre_de_la_excepcion as e>:\n",
        "  # Si surje una excepción en el try, ejecuta este código, si no, salta esta etapa\n",
        "```"
      ],
      "metadata": {
        "id": "h9lj8Wfk__cl"
      }
    },
    {
      "cell_type": "markdown",
      "source": [
        "#### **Situación 12:**\n",
        "\n",
        "Creaste un código que lee un diccionario con las notas de los estudiantes y querías retornar la lista de notas de un estudiante.\n",
        "\n",
        "En caso que el/la estudiante no esté matriculado(a) en el grupo debemos tratar la excepción para presentar el mensaje \"Estudiante no matriculado(a) en el grupo\".\n",
        "\n",
        "Vamos a trabajar en este ejemplo con la excepción **Key Error** que interrumpirá el processo de este trecho de código.\n",
        "\n",
        "**¿Vamos a probar este primer tratamiento?**\n",
        "\n"
      ],
      "metadata": {
        "id": "miwzhPNdD8Ty"
      }
    },
    {
      "cell_type": "code",
      "source": [
        "notas = {'Juan': [8.0, 9.0, 10.0], 'Maria': [9.0, 7.0, 6.0], 'José': [3.4, 7.0, 8.0], 'Claudia': [5.5, 6.6, 8.0],\n",
        "         'Ana': [6.0, 10.0, 9.5], 'Jorge': [5.5, 7.5, 9.0], 'Julia': [6.0, 8.0, 7.0], 'Pedro': [3.0, 4.0, 6.0]}"
      ],
      "metadata": {
        "id": "UvVbXY0XVm-f"
      },
      "execution_count": null,
      "outputs": []
    },
    {
      "cell_type": "code",
      "source": [],
      "metadata": {
        "id": "rFBq02dbJtkF"
      },
      "execution_count": null,
      "outputs": []
    },
    {
      "cell_type": "code",
      "source": [],
      "metadata": {
        "id": "IZwxTL1EJvRl"
      },
      "execution_count": null,
      "outputs": []
    },
    {
      "cell_type": "markdown",
      "source": [
        "### Agregando la cláusula Else\n",
        "\n",
        "```python\n",
        "try:\n",
        "  # código que será ejecutado. En caso de que surja una excepción, para inmediatamente\n",
        "except:\n",
        "  # Si surje una excepción en el try, ejecuta este código, si no, salta esta etapa\n",
        "else:\n",
        "  # Si no surjen excepciones, ejecuta esta parte del código\n",
        "```"
      ],
      "metadata": {
        "id": "hKhKzgQoBHLb"
      }
    },
    {
      "cell_type": "markdown",
      "source": [
        "#### **Situación 13:**\n",
        "\n",
        "Creaste un código que lee un diccionario con las notas de los estudiantes y querías retornar la lista de notas de un estudiante.\n",
        "\n",
        "En caso de que el/la estudiante no esté matriculado(a) en la clase, debe aparecer el siguiente mensaje: \"Estudiante no matriculado(a) en el grupo\" y, si no surje la excepción, debemos exhibir la lista con las notas del(la) estudiante.\n",
        "\n",
        "Vamos a trabajar en este ejemplo con la excepción **Key Error** que interrumpirá el proceso de este trecho de código.\n",
        "\n",
        "**¿Vamos a probar este tratamiento?**\n"
      ],
      "metadata": {
        "id": "USN3SA2tMjL0"
      }
    },
    {
      "cell_type": "code",
      "source": [],
      "metadata": {
        "id": "Qr_4-D3UJxcE"
      },
      "execution_count": null,
      "outputs": []
    },
    {
      "cell_type": "code",
      "source": [],
      "metadata": {
        "id": "uy2xPGXoJzXS"
      },
      "execution_count": null,
      "outputs": []
    },
    {
      "cell_type": "markdown",
      "source": [
        "### Añadiendo la cláusula finally\n",
        "\n",
        "```python\n",
        "try:\n",
        "  # código que será ejecutado. En caso de que surja una excepción, para inmediatamente\n",
        "except:\n",
        "  # Si surje una excepción en el try, ejecuta este código, si no, salta esta etapa\n",
        "else:\n",
        "  # Si no surjen excepciones, ejecuta esta parte del código\n",
        "finally:\n",
        "  # Ejecuta este trecho (con o sin excepción)\n",
        "```"
      ],
      "metadata": {
        "id": "Dw_efTlbBhll"
      }
    },
    {
      "cell_type": "markdown",
      "source": [
        "#### **Situación 14:**\n",
        "\n",
        "Creaste un código que lee un diccionario con las notas de los estudiantes y querías retornar la lista de notas de un estudiante.\n",
        "\n",
        "En caso de que el/la estudiante no esté matriculado(a) en la clase, debe aparecer el siguiente mensaje: \"Estudiante no matriculado(a) en el grupo\" y, si no surje la excepción, debemos exhibir la lista con las notas del(la) estudiante. Un texto avisando que \"La consulta ha concluído.\" debe ser mostrado independientemente de si surgió o no alguna excepción.\n",
        "\n",
        "\n",
        "Vamos a trabajar en este ejemplo con la excepción **Key Error** que interrumpirá el proceso de este trecho del código.\n",
        "\n",
        "**¿Vamos a probar este tratamiento?**"
      ],
      "metadata": {
        "id": "jGtFVx5GdnsS"
      }
    },
    {
      "cell_type": "code",
      "source": [],
      "metadata": {
        "id": "PwdLYP_zJ04s"
      },
      "execution_count": null,
      "outputs": []
    },
    {
      "cell_type": "code",
      "source": [],
      "metadata": {
        "id": "pv0BaQ95J1BA"
      },
      "execution_count": null,
      "outputs": []
    },
    {
      "cell_type": "markdown",
      "source": [
        "## 4.2 Raise\n",
        "\n",
        "Otra forma de trabajar con las excepciones en tu código, es generando tus propias excepciones para determinados comportamientos que deseas en tu código.\n",
        "\n",
        "Para ello, utilizamos la palabra clave `raise` junto al tipo de excepción que se desea mostrar y el mensaje que será exhibido.   "
      ],
      "metadata": {
        "id": "HdjllLBpST_2"
      }
    },
    {
      "cell_type": "markdown",
      "source": [
        "```python\n",
        "raise NombreDelError(\"Mensaje deseado.\")\n",
        "```"
      ],
      "metadata": {
        "id": "_nIOnDQufv6Z"
      }
    },
    {
      "cell_type": "markdown",
      "source": [
        "#### **Situação 15:**\n",
        "\n",
        "Creaste una función para calcular el promedio de un estudiante en una determinada materia pasando en una lista las notas de este estudiante.\n",
        "\n",
        "Pretendes tratar 2 situaciones:\n",
        "\n",
        "- Si la lista posee un valor no numérico el cálculo de promedio no será ejecutado y un mensaje de \"No fue posible calcular el promedio del(la) estudiante. Solo se admiten valores numéricos!\" será exhibido.\n",
        "\n",
        "- En caso que la lista tenga más de 4 notas, surgirá una excepción del tipo **ValueError** informando que \"La lista no puede poseer más de 4 notas.\"\n",
        "\n",
        "Un texto avisando que \"La consulta ha concluído.\" debe ser mostrado independientemente de si surgió o no alguna excepción.\n",
        "\n",
        "**¿Vamos a resolver este desafío?**"
      ],
      "metadata": {
        "id": "xapeB2ivgB7R"
      }
    },
    {
      "cell_type": "code",
      "source": [
        "def promedio(lista: list=[0]) -> float:\n",
        "  ''' Función para calcular el promedio de notas en una lista\n",
        "\n",
        "  lista: list, default [0]\n",
        "    Lista con las notas para calcular el promedio\n",
        "  return = calculo: float\n",
        "    Promedio calculado\n",
        "  '''\n",
        "\n",
        "  calculo = sum(lista) / len(lista)\n",
        "\n",
        "  return calculo"
      ],
      "metadata": {
        "id": "kKeFuHUfhSfa"
      },
      "execution_count": null,
      "outputs": []
    },
    {
      "cell_type": "code",
      "source": [],
      "metadata": {
        "id": "_ghW6hb9KBpU"
      },
      "execution_count": null,
      "outputs": []
    },
    {
      "cell_type": "code",
      "source": [],
      "metadata": {
        "id": "X2To8kJdKGFk"
      },
      "execution_count": null,
      "outputs": []
    },
    {
      "cell_type": "code",
      "source": [],
      "metadata": {
        "id": "nrCsWqX6KGIA"
      },
      "execution_count": null,
      "outputs": []
    },
    {
      "cell_type": "markdown",
      "source": [
        "# Ejercicio de Excepciones"
      ],
      "metadata": {
        "id": "wZR_lMwD9me3"
      }
    },
    {
      "cell_type": "markdown",
      "source": [
        "Vamos practicar lo que hemos aprendido hasta ahora resolviendo los problemas propuestos en código.\n",
        "\n",
        "Calentamiento\n",
        "\n",
        "1 - Haz un programa que solicite a la persona usuaria ingresar dos números decimales y calcular la división entre estos números. El código debe incluir un manejo de error, indicando el tipo de error que se generó si la división no es posible.\n",
        "\n",
        "Prueba el programa con el segundo valor numérico de la entrada igual a 0. También prueba usando caracteres textuales en la entrada para verificar los tipos de errores que ocurren.\n",
        "\n",
        "2 - Haz un programa que solicite a la persona usuaria ingresar un texto que será una clave a buscar en el siguiente diccionario: edades = {'Júlia': 16, 'Carol': 23, 'Alberto': 19, 'Roberta': 17}, almacenando el resultado del valor en una variable. El código debe incluir un manejo de error KeyError, imprimiendo la información 'Nombre no encontrado' en caso de error, e imprimir el valor si no ocurre ninguno.\n",
        "\n",
        "Prueba el programa con un nombre presente en una de las claves del diccionario y con uno que no esté en el diccionario para verificar el mensaje de error.\n",
        "\n",
        "3 - Crea una función que reciba una lista como parámetro y convierta todos los valores de la lista a flotantes. La función debe incluir un manejo de error indicando el tipo de error generado y devolver la lista si no ha ocurrido ningún error. Por último, debe tener la cláusula finally para imprimir el texto: 'Fin de la ejecución de la función'.\n",
        "\n",
        "4 - Crea una función que reciba dos listas como parámetros y agrupe los elementos uno a uno de las listas, formando una lista de tuplas de 3 elementos. El primer y segundo elemento de la tupla son los valores en la posición i de las listas y el tercer elemento es la suma de los valores en la posición i de las listas.\n",
        "\n",
        "La función debe incluir un manejo de error indicando el tipo de error generado y devolver como resultado la lista de tuplas. Si las listas enviadas como parámetro tienen tamaños diferentes, la función debe devolver un IndexError con la frase: 'La cantidad de elementos en cada lista es diferente.'.\n",
        "\n",
        "Datos para probar la función:\n",
        "\n",
        "Valores sin error:\n",
        "\n",
        "lista1 = [4, 6, 7, 9, 10]\n",
        "lista2 = [-4, 6, 8, 7, 9]\n",
        "Copia el código\n",
        "Listas con tamaños diferentes:\n",
        "\n",
        "lista1 = [4, 6, 7, 9, 10, 4]\n",
        "lista2 = [-4, 6, 8, 7, 9]\n",
        "Copia el código\n",
        "Listas con valores incoherentes:\n",
        "\n",
        "lista1 = [4, 6, 7, 9, 'A']\n",
        "lista2 = [-4, 'E', 8, 7, 9]\n",
        "Copia el código\n",
        "Aplicando a proyectos\n",
        "\n",
        "5 - Como desafío, se te ha asignado la tarea de desarrollar un código que contabiliza las puntuaciones de estudiantes de una institución educativa de acuerdo con sus respuestas en una prueba. Este código debe ser probado para un ejemplo de 3 estudiantes con una lista de listas en la que cada lista tiene las respuestas de 5 preguntas objetivas de cada estudiante. Cada pregunta vale un punto y las alternativas posibles son A, B, C o D.\n",
        "\n",
        "Si alguna alternativa en una de las pruebas no está entre las alternativas posibles, debes lanzar un ValueError con el mensaje \"La alternativa [alternativa] no es una opción de alternativa válida\". El cálculo de las 3 notas solo se realizará mediante las entradas con las alternativas A, B, C o D en todas las pruebas. Si no se lanza la excepción, se mostrará una lista con las notas en cada prueba.\n",
        "\n",
        "Datos para la prueba del código:\n",
        "\n",
        "Respuestas de la prueba:\n",
        "\n",
        "respuestas = ['D', 'A', 'B', 'C', 'A']\n",
        "Copia el código\n",
        "A continuación, hay 2 listas de listas que puedes usar como prueba:\n",
        "\n",
        "Notas sin excepción:\n",
        "\n",
        "tests_sin_ex = [['D', 'A', 'B', 'C', 'A'], ['C', 'A', 'A', 'C', 'A'], ['D', 'B', 'A', 'C', 'A']]\n",
        "Copia el código\n",
        "Notas con excepción:\n",
        "\n",
        "tests_con_ex = [['D', 'A', 'B', 'C', 'A'], ['C', 'A', 'A', 'E', 'A'], ['D', 'B', 'A', 'C', 'A']]\n",
        "Copia el código\n",
        "6 - Estás trabajando con procesamiento de lenguaje natural (NLP) y, en esta ocasión, tu líder te pidió que crees un fragmento de código que reciba una lista con las palabras separadas de una frase generada por ChatGPT.\n",
        "\n",
        "Necesitas crear una función que evalúe cada palabra de este texto y verifique si el tratamiento para quitar los símbolos de puntuación (',', '.', '!' y '?') se realizó. De lo contrario, se lanzará una excepción del tipo ValueError señalando el primer caso en que se detectó el uso de una puntuación a través de la frase \"El texto presenta puntuaciones en la palabra \"[palabra]\"\". Esta solicitud se centra en el análisis del patrón de frases generadas por la inteligencia artificial.\n",
        "\n",
        "Datos para probar el código:\n",
        "\n",
        "Lista tratada:\n",
        "\n",
        "lista_tratada = ['Python', 'es', 'un', 'lenguaje', 'de', 'programación', 'poderoso', 'versátil',\n",
        "                  'y', 'fácil', 'de', 'aprender', 'utilizado', 'en', 'diversos', 'campos', 'desde',\n",
        "                  'análisis', 'de', 'datos', 'hasta', 'inteligencia', 'artificial']\n",
        "Copia el código\n",
        "Lista no tratada:\n",
        "\n",
        "lista_no_tratada = ['Python', 'es', 'un', 'lenguaje', 'de', 'programación', 'poderoso,', 'versátil',\n",
        "                  'y', 'fácil,', 'de', 'aprender', 'utilizado', 'en', 'diversos', 'campos,', 'desde',\n",
        "                  'análisis', 'de', 'datos', 'hasta', 'inteligencia', 'artificial!']\n",
        "Copia el código\n",
        "Ver opinión del instructor\n",
        "Opinión del instructor\n",
        "\n",
        "A continuación te presentamos las posibles respuestas al desafío propuesto:\n",
        "\n",
        "1 -\n",
        "\n",
        "try:\n",
        "    num1 = float(input(\"Ingrese el primer número: \"))\n",
        "    num2 = float(input(\"Ingrese el segundo número: \"))\n",
        "    resultado = num1 / num2\n",
        "    print(\"El resultado de la división es:\", resultado)\n",
        "except ZeroDivisionError:\n",
        "    print(\"Error: No se puede dividir por cero.\")\n",
        "except ValueError as e:\n",
        "    print(f\"Error: {e}\")\n",
        "Copia el código\n",
        "2 -\n",
        "\n",
        "try:\n",
        "    nombre = input(\"Ingrese un nombre para buscar en el diccionario: \")\n",
        "    edad = edades[nombre]\n",
        "    print(f\"La edad de {nombre} es {edad} años.\")\n",
        "except KeyError:\n",
        "    print(\"Error: Nombre no encontrado.\")\n",
        "Copia el código\n",
        "3 -\n",
        "\n",
        "def convertir_a_float(lista):\n",
        "    try:\n",
        "        nueva_lista = [float(valor) for valor in lista]\n",
        "        return nueva_lista\n",
        "    except ValueError as e:\n",
        "        print(f\"Error: {e}\")\n",
        "    finally:\n",
        "        print(\"Fin de la ejecución de la función\")\n",
        "\n",
        "# Ejemplo de uso:\n",
        "lista_original = ['4.5', '2.3', '7.8', '1.2']\n",
        "lista_convertida = convertir_a_float(lista_original)\n",
        "print(lista_convertida)\n",
        "Copia el código\n",
        "4 - Datos para probar la función:\n",
        "\n",
        "Valores sin error:\n",
        "\n",
        "lista1 = [4, 6, 7, 9, 10]\n",
        "lista2 = [-4, 6, 8, 7, 9]\n",
        "Copia el código\n",
        "Listas con tamaños diferentes:\n",
        "\n",
        "lista1 = [4, 6, 7, 9, 10, 4]\n",
        "lista2 = [-4, 6, 8, 7, 9]\n",
        "Copia el código\n",
        "Listas con valores incoherentes:\n",
        "\n",
        "lista1 = [4, 6, 7, 9, 'A']\n",
        "lista2 = [-4, 'E', 8, 7, 9]\n",
        "Copia el código\n",
        "def agrupar_listas(lista1, lista2):\n",
        "    try:\n",
        "        if len(lista1) != len(lista2):\n",
        "            raise IndexError(\"La cantidad de elementos en cada lista es diferente.\")\n",
        "        \n",
        "        lista_resultado = [(lista1[i], lista2[i], lista1[i] + lista2[i]) for i in range(len(lista1))]\n",
        "        return lista_resultado\n",
        "    except TypeError as e:\n",
        "        print(f\"Error: {e}\")\n",
        "    except IndexError as e:\n",
        "        print(f\"Error: {e}\")\n",
        "\n",
        "# Ejemplos de uso:\n",
        "try:\n",
        "    resultado_sin_error = agrupar_listas([4, 6, 7, 9, 10], [-4, 6, 8, 7, 9])\n",
        "    print(resultado_sin_error)\n",
        "    \n",
        "    resultado_tamanos_diferentes = agrupar_listas([4, 6, 7, 9, 10, 4], [-4, 6, 8, 7, 9])\n",
        "    print(resultado_tamanos_diferentes)\n",
        "    \n",
        "    resultado_valores_incoherentes = agrupar_listas([4, 6, 7, 9, 'A'], [-4, 'E', 8, 7, 9])\n",
        "    print(resultado_valores_incoherentes)\n",
        "except Exception as e:\n",
        "    print(f\"Error general: {e}\")\n",
        "Copia el código\n",
        "5 - Datos para la prueba del código:\n",
        "\n",
        "Respuesta de la prueba:\n",
        "\n",
        "respuesta = ['D', 'A', 'B', 'C', 'A']\n",
        "Copia el código\n",
        "A continuación, hay 2 listas de listas que puedes usar como prueba:\n",
        "\n",
        "Notas sin excepción:\n",
        "\n",
        "tests_sin_ex = [['D', 'A', 'B', 'C', 'A'], ['C', 'A', 'A', 'C', 'A'], ['D', 'B', 'A', 'C', 'A']]\n",
        "Copia el código\n",
        "Notas con excepción:\n",
        "\n",
        "tests_con_ex = [['D', 'A', 'B', 'C', 'A'], ['C', 'A', 'A', 'E', 'A'], ['D', 'B', 'A', 'C', 'A']]\n",
        "Copia el código\n",
        "def corrector(tests: list):\n",
        "  puntuaciones = []\n",
        "  try:\n",
        "    for test in tests:\n",
        "      nota = 0\n",
        "      for i in range(len(test)):\n",
        "        if test[i] not in ['A', 'B', 'C', 'D']:\n",
        "          raise ValueError(f'La alternativa {test[i]} no es una opción de alternativa válida')\n",
        "        elif test[i] == respuesta[i]:\n",
        "          nota += 1\n",
        "      puntuaciones.append(nota)\n",
        "  except Exception as e:\n",
        "    print(e)\n",
        "  else:\n",
        "    return puntuaciones\n",
        "Copia el código\n",
        "Y se procede a probar la función con excepción:\n",
        "\n",
        "corrector(tests_con_ex)\n",
        "Copia el código\n",
        "Y sin excepción:\n",
        "\n",
        "corrector(tests_sin_ex)\n",
        "Copia el código\n",
        "6 - Lista tratada:\n",
        "\n",
        "lista_tratada = ['Python', 'es', 'un', 'lenguaje', 'de', 'programación', 'poderoso', 'versátil',\n",
        "                  'y', 'fácil', 'de', 'aprender', 'utilizado', 'en', 'diversos', 'campos', 'desde',\n",
        "                  'análisis', 'de', 'datos', 'hasta', 'inteligencia', 'artificial']\n",
        "Copia el código\n",
        "Lista no tratada:\n",
        "\n",
        "lista_no_tratada = ['Python', 'es', 'un', 'lenguaje', 'de', 'programación', 'poderoso,', 'versátil',\n",
        "                  'y', 'fácil,', 'de', 'aprender', 'utilizado', 'en', 'diversos', 'campos,', 'desde',\n",
        "                  'análisis', 'de', 'datos', 'hasta', 'inteligencia', 'artificial!']\n",
        "Copia el código\n",
        "Definimos la función:\n",
        "\n",
        "def evaluar_puntuacion(lista_palabras):\n",
        "    try:\n",
        "        for palabra in lista_palabras:\n",
        "            if any(puntuacion in palabra for puntuacion in [',', '.', '!', '?']):\n",
        "                raise ValueError(f\"El texto presenta puntuaciones en la palabra '{palabra}'.\")\n",
        "    except ValueError as e:\n",
        "        print(f\"Error: {e}\")\n",
        "Copia el código\n",
        "La probamos con la lista tratada:\n",
        "\n",
        "evaluar_puntuacion(lista_tratada)\n",
        "Copia el código\n",
        "Y con la lista no tratada:\n",
        "\n",
        "evaluar_puntuacion(lista_no_tratada)\n",
        "Copia el código\n",
        "7 - Función de división de columnas y manejo de excepciones:\n",
        "\n",
        "# Creando la función que recibe las dos listas y la operación a realizar\n",
        "def divide_columnas(lista_1: list, lista_2: list) -> list:\n",
        "  # try-except que verifica si es posible calcular la división y lanza una excepción si las listas tienen tamaños diferentes\n",
        "  # o si hay alguna división por cero en uno de los cálculos entre los números de las listas\n",
        "  try:\n",
        "    if len(lista_1) != len(lista_2):  # Verificando si las listas tienen el mismo tamaño, si no, lanza una excepción\n",
        "      raise ValueError(\"Las listas deben tener el mismo tamaño\")\n",
        "\n",
        "    # La función zip empareja los elementos de las listas y se genera una lista mediante la división entre las parejas\n",
        "    resultado = [round(a / b, 2) for a, b in zip(lista_1, lista_2)]\n",
        "  except ValueError as e:\n",
        "    print(e)\n",
        "  except ZeroDivisionError as e:\n",
        "    print(f\"{e}: La 2ª lista no puede tener un valor igual a 0\")\n",
        "  else:\n",
        "    return resultado\n",
        "Copia el código\n",
        "Probando sin excepciones:\n",
        "\n",
        "# Probando en el ejemplo que no lanza excepciones\n",
        "presiones = [100, 120, 140, 160, 180]\n",
        "temperaturas = [20, 25, 30, 35, 40]\n",
        "\n",
        "divide_columnas(presiones, temperaturas)\n",
        "Copia el código\n",
        "Salida:\n",
        "\n",
        "[5.0, 4.8, 4.67, 4.57, 4.5]\n",
        "Copia el código\n",
        "Probando con excepción (Caso 1):\n",
        "\n",
        "# Probando en el ejemplo que lanza una excepción (ZeroDivisionError)\n",
        "presiones = [60, 120, 140, 160, 180]\n",
        "temperaturas = [0, 25, 30, 35, 40]\n",
        "\n",
        "divide_columnas(presiones, temperaturas)\n",
        "Copia el código\n",
        "Salida:\n",
        "\n",
        "division by zero: La 2ª lista no puede tener un valor igual a 0\n",
        "Copia el código\n",
        "Probando con excepción (Caso 2):\n",
        "\n",
        "# Probando en el ejemplo que lanza una excepción (ValueError)\n",
        "presiones = [100, 120, 140, 160]\n",
        "temperaturas = [20, 25, 30, 35, 40]\n",
        "\n",
        "divide_columnas(presiones, temperaturas)\n",
        "Copia el código\n",
        "Salida:\n",
        "\n",
        "Las listas deben tener el mismo tamaño"
      ],
      "metadata": {
        "id": "_7QcgD0Q9sKE"
      }
    },
    {
      "cell_type": "code",
      "source": [
        "Vamos practicar lo que hemos aprendido hasta ahora resolviendo los problemas propuestos en código.\n",
        "\n",
        "Calentamiento\n",
        "\n",
        "1 - Haz un programa que solicite a la persona usuaria ingresar dos números decimales y calcular la división entre estos números. El código debe incluir un manejo de error, indicando el tipo de error que se generó si la división no es posible.\n",
        "\n",
        "Prueba el programa con el segundo valor numérico de la entrada igual a 0. También prueba usando caracteres textuales en la entrada para verificar los tipos de errores que ocurren.\n",
        "\n",
        "2 - Haz un programa que solicite a la persona usuaria ingresar un texto que será una clave a buscar en el siguiente diccionario: edades = {'Júlia': 16, 'Carol': 23, 'Alberto': 19, 'Roberta': 17}, almacenando el resultado del valor en una variable. El código debe incluir un manejo de error KeyError, imprimiendo la información 'Nombre no encontrado' en caso de error, e imprimir el valor si no ocurre ninguno.\n",
        "\n",
        "Prueba el programa con un nombre presente en una de las claves del diccionario y con uno que no esté en el diccionario para verificar el mensaje de error.\n",
        "\n",
        "3 - Crea una función que reciba una lista como parámetro y convierta todos los valores de la lista a flotantes. La función debe incluir un manejo de error indicando el tipo de error generado y devolver la lista si no ha ocurrido ningún error. Por último, debe tener la cláusula finally para imprimir el texto: 'Fin de la ejecución de la función'.\n",
        "\n",
        "4 - Crea una función que reciba dos listas como parámetros y agrupe los elementos uno a uno de las listas, formando una lista de tuplas de 3 elementos. El primer y segundo elemento de la tupla son los valores en la posición i de las listas y el tercer elemento es la suma de los valores en la posición i de las listas.\n",
        "\n",
        "La función debe incluir un manejo de error indicando el tipo de error generado y devolver como resultado la lista de tuplas. Si las listas enviadas como parámetro tienen tamaños diferentes, la función debe devolver un IndexError con la frase: 'La cantidad de elementos en cada lista es diferente.'.\n",
        "\n",
        "Datos para probar la función:\n",
        "\n",
        "Valores sin error:\n",
        "\n",
        "lista1 = [4, 6, 7, 9, 10]\n",
        "lista2 = [-4, 6, 8, 7, 9]\n",
        "Copia el código\n",
        "Listas con tamaños diferentes:\n",
        "\n",
        "lista1 = [4, 6, 7, 9, 10, 4]\n",
        "lista2 = [-4, 6, 8, 7, 9]\n",
        "Copia el código\n",
        "Listas con valores incoherentes:\n",
        "\n",
        "lista1 = [4, 6, 7, 9, 'A']\n",
        "lista2 = [-4, 'E', 8, 7, 9]\n",
        "Copia el código\n",
        "Aplicando a proyectos\n",
        "\n",
        "5 - Como desafío, se te ha asignado la tarea de desarrollar un código que contabiliza las puntuaciones de estudiantes de una institución educativa de acuerdo con sus respuestas en una prueba. Este código debe ser probado para un ejemplo de 3 estudiantes con una lista de listas en la que cada lista tiene las respuestas de 5 preguntas objetivas de cada estudiante. Cada pregunta vale un punto y las alternativas posibles son A, B, C o D.\n",
        "\n",
        "Si alguna alternativa en una de las pruebas no está entre las alternativas posibles, debes lanzar un ValueError con el mensaje \"La alternativa [alternativa] no es una opción de alternativa válida\". El cálculo de las 3 notas solo se realizará mediante las entradas con las alternativas A, B, C o D en todas las pruebas. Si no se lanza la excepción, se mostrará una lista con las notas en cada prueba.\n",
        "\n",
        "Datos para la prueba del código:\n",
        "\n",
        "Respuestas de la prueba:\n",
        "\n",
        "respuestas = ['D', 'A', 'B', 'C', 'A']\n",
        "Copia el código\n",
        "A continuación, hay 2 listas de listas que puedes usar como prueba:\n",
        "\n",
        "Notas sin excepción:\n",
        "\n",
        "tests_sin_ex = [['D', 'A', 'B', 'C', 'A'], ['C', 'A', 'A', 'C', 'A'], ['D', 'B', 'A', 'C', 'A']]\n",
        "Copia el código\n",
        "Notas con excepción:\n",
        "\n",
        "tests_con_ex = [['D', 'A', 'B', 'C', 'A'], ['C', 'A', 'A', 'E', 'A'], ['D', 'B', 'A', 'C', 'A']]\n",
        "Copia el código\n",
        "6 - Estás trabajando con procesamiento de lenguaje natural (NLP) y, en esta ocasión, tu líder te pidió que crees un fragmento de código que reciba una lista con las palabras separadas de una frase generada por ChatGPT.\n",
        "\n",
        "Necesitas crear una función que evalúe cada palabra de este texto y verifique si el tratamiento para quitar los símbolos de puntuación (',', '.', '!' y '?') se realizó. De lo contrario, se lanzará una excepción del tipo ValueError señalando el primer caso en que se detectó el uso de una puntuación a través de la frase \"El texto presenta puntuaciones en la palabra \"[palabra]\"\". Esta solicitud se centra en el análisis del patrón de frases generadas por la inteligencia artificial.\n",
        "\n",
        "Datos para probar el código:\n",
        "\n",
        "Lista tratada:\n",
        "\n",
        "lista_tratada = ['Python', 'es', 'un', 'lenguaje', 'de', 'programación', 'poderoso', 'versátil',\n",
        "                  'y', 'fácil', 'de', 'aprender', 'utilizado', 'en', 'diversos', 'campos', 'desde',\n",
        "                  'análisis', 'de', 'datos', 'hasta', 'inteligencia', 'artificial']\n",
        "Copia el código\n",
        "Lista no tratada:\n",
        "\n",
        "lista_no_tratada = ['Python', 'es', 'un', 'lenguaje', 'de', 'programación', 'poderoso,', 'versátil',\n",
        "                  'y', 'fácil,', 'de', 'aprender', 'utilizado', 'en', 'diversos', 'campos,', 'desde',\n",
        "                  'análisis', 'de', 'datos', 'hasta', 'inteligencia', 'artificial!']\n",
        "Copia el código\n",
        "Ver opinión del instructor\n",
        "Opinión del instructor\n",
        "\n",
        "A continuación te presentamos las posibles respuestas al desafío propuesto:\n",
        "\n",
        "1 -\n",
        "\n",
        "try:\n",
        "    num1 = float(input(\"Ingrese el primer número: \"))\n",
        "    num2 = float(input(\"Ingrese el segundo número: \"))\n",
        "    resultado = num1 / num2\n",
        "    print(\"El resultado de la división es:\", resultado)\n",
        "except ZeroDivisionError:\n",
        "    print(\"Error: No se puede dividir por cero.\")\n",
        "except ValueError as e:\n",
        "    print(f\"Error: {e}\")\n",
        "Copia el código\n",
        "2 -\n",
        "\n",
        "try:\n",
        "    nombre = input(\"Ingrese un nombre para buscar en el diccionario: \")\n",
        "    edad = edades[nombre]\n",
        "    print(f\"La edad de {nombre} es {edad} años.\")\n",
        "except KeyError:\n",
        "    print(\"Error: Nombre no encontrado.\")\n",
        "Copia el código\n",
        "3 -\n",
        "\n",
        "def convertir_a_float(lista):\n",
        "    try:\n",
        "        nueva_lista = [float(valor) for valor in lista]\n",
        "        return nueva_lista\n",
        "    except ValueError as e:\n",
        "        print(f\"Error: {e}\")\n",
        "    finally:\n",
        "        print(\"Fin de la ejecución de la función\")\n",
        "\n",
        "# Ejemplo de uso:\n",
        "lista_original = ['4.5', '2.3', '7.8', '1.2']\n",
        "lista_convertida = convertir_a_float(lista_original)\n",
        "print(lista_convertida)\n",
        "Copia el código\n",
        "4 - Datos para probar la función:\n",
        "\n",
        "Valores sin error:\n",
        "\n",
        "lista1 = [4, 6, 7, 9, 10]\n",
        "lista2 = [-4, 6, 8, 7, 9]\n",
        "Copia el código\n",
        "Listas con tamaños diferentes:\n",
        "\n",
        "lista1 = [4, 6, 7, 9, 10, 4]\n",
        "lista2 = [-4, 6, 8, 7, 9]\n",
        "Copia el código\n",
        "Listas con valores incoherentes:\n",
        "\n",
        "lista1 = [4, 6, 7, 9, 'A']\n",
        "lista2 = [-4, 'E', 8, 7, 9]\n",
        "Copia el código\n",
        "def agrupar_listas(lista1, lista2):\n",
        "    try:\n",
        "        if len(lista1) != len(lista2):\n",
        "            raise IndexError(\"La cantidad de elementos en cada lista es diferente.\")\n",
        "\n",
        "        lista_resultado = [(lista1[i], lista2[i], lista1[i] + lista2[i]) for i in range(len(lista1))]\n",
        "        return lista_resultado\n",
        "    except TypeError as e:\n",
        "        print(f\"Error: {e}\")\n",
        "    except IndexError as e:\n",
        "        print(f\"Error: {e}\")\n",
        "\n",
        "# Ejemplos de uso:\n",
        "try:\n",
        "    resultado_sin_error = agrupar_listas([4, 6, 7, 9, 10], [-4, 6, 8, 7, 9])\n",
        "    print(resultado_sin_error)\n",
        "\n",
        "    resultado_tamanos_diferentes = agrupar_listas([4, 6, 7, 9, 10, 4], [-4, 6, 8, 7, 9])\n",
        "    print(resultado_tamanos_diferentes)\n",
        "\n",
        "    resultado_valores_incoherentes = agrupar_listas([4, 6, 7, 9, 'A'], [-4, 'E', 8, 7, 9])\n",
        "    print(resultado_valores_incoherentes)\n",
        "except Exception as e:\n",
        "    print(f\"Error general: {e}\")\n",
        "Copia el código\n",
        "5 - Datos para la prueba del código:\n",
        "\n",
        "Respuesta de la prueba:\n",
        "\n",
        "respuesta = ['D', 'A', 'B', 'C', 'A']\n",
        "Copia el código\n",
        "A continuación, hay 2 listas de listas que puedes usar como prueba:\n",
        "\n",
        "Notas sin excepción:\n",
        "\n",
        "tests_sin_ex = [['D', 'A', 'B', 'C', 'A'], ['C', 'A', 'A', 'C', 'A'], ['D', 'B', 'A', 'C', 'A']]\n",
        "Copia el código\n",
        "Notas con excepción:\n",
        "\n",
        "tests_con_ex = [['D', 'A', 'B', 'C', 'A'], ['C', 'A', 'A', 'E', 'A'], ['D', 'B', 'A', 'C', 'A']]\n",
        "Copia el código\n",
        "def corrector(tests: list):\n",
        "  puntuaciones = []\n",
        "  try:\n",
        "    for test in tests:\n",
        "      nota = 0\n",
        "      for i in range(len(test)):\n",
        "        if test[i] not in ['A', 'B', 'C', 'D']:\n",
        "          raise ValueError(f'La alternativa {test[i]} no es una opción de alternativa válida')\n",
        "        elif test[i] == respuesta[i]:\n",
        "          nota += 1\n",
        "      puntuaciones.append(nota)\n",
        "  except Exception as e:\n",
        "    print(e)\n",
        "  else:\n",
        "    return puntuaciones\n",
        "Copia el código\n",
        "Y se procede a probar la función con excepción:\n",
        "\n",
        "corrector(tests_con_ex)\n",
        "Copia el código\n",
        "Y sin excepción:\n",
        "\n",
        "corrector(tests_sin_ex)\n",
        "Copia el código\n",
        "6 - Lista tratada:\n",
        "\n",
        "lista_tratada = ['Python', 'es', 'un', 'lenguaje', 'de', 'programación', 'poderoso', 'versátil',\n",
        "                  'y', 'fácil', 'de', 'aprender', 'utilizado', 'en', 'diversos', 'campos', 'desde',\n",
        "                  'análisis', 'de', 'datos', 'hasta', 'inteligencia', 'artificial']\n",
        "Copia el código\n",
        "Lista no tratada:\n",
        "\n",
        "lista_no_tratada = ['Python', 'es', 'un', 'lenguaje', 'de', 'programación', 'poderoso,', 'versátil',\n",
        "                  'y', 'fácil,', 'de', 'aprender', 'utilizado', 'en', 'diversos', 'campos,', 'desde',\n",
        "                  'análisis', 'de', 'datos', 'hasta', 'inteligencia', 'artificial!']\n",
        "Copia el código\n",
        "Definimos la función:\n",
        "\n",
        "def evaluar_puntuacion(lista_palabras):\n",
        "    try:\n",
        "        for palabra in lista_palabras:\n",
        "            if any(puntuacion in palabra for puntuacion in [',', '.', '!', '?']):\n",
        "                raise ValueError(f\"El texto presenta puntuaciones en la palabra '{palabra}'.\")\n",
        "    except ValueError as e:\n",
        "        print(f\"Error: {e}\")\n",
        "Copia el código\n",
        "La probamos con la lista tratada:\n",
        "\n",
        "evaluar_puntuacion(lista_tratada)\n",
        "Copia el código\n",
        "Y con la lista no tratada:\n",
        "\n",
        "evaluar_puntuacion(lista_no_tratada)\n",
        "Copia el código\n",
        "7 - Función de división de columnas y manejo de excepciones:\n",
        "\n",
        "# Creando la función que recibe las dos listas y la operación a realizar\n",
        "def divide_columnas(lista_1: list, lista_2: list) -> list:\n",
        "  # try-except que verifica si es posible calcular la división y lanza una excepción si las listas tienen tamaños diferentes\n",
        "  # o si hay alguna división por cero en uno de los cálculos entre los números de las listas\n",
        "  try:\n",
        "    if len(lista_1) != len(lista_2):  # Verificando si las listas tienen el mismo tamaño, si no, lanza una excepción\n",
        "      raise ValueError(\"Las listas deben tener el mismo tamaño\")\n",
        "\n",
        "    # La función zip empareja los elementos de las listas y se genera una lista mediante la división entre las parejas\n",
        "    resultado = [round(a / b, 2) for a, b in zip(lista_1, lista_2)]\n",
        "  except ValueError as e:\n",
        "    print(e)\n",
        "  except ZeroDivisionError as e:\n",
        "    print(f\"{e}: La 2ª lista no puede tener un valor igual a 0\")\n",
        "  else:\n",
        "    return resultado\n",
        "Copia el código\n",
        "Probando sin excepciones:\n",
        "\n",
        "# Probando en el ejemplo que no lanza excepciones\n",
        "presiones = [100, 120, 140, 160, 180]\n",
        "temperaturas = [20, 25, 30, 35, 40]\n",
        "\n",
        "divide_columnas(presiones, temperaturas)\n",
        "Copia el código\n",
        "Salida:\n",
        "\n",
        "[5.0, 4.8, 4.67, 4.57, 4.5]\n",
        "Copia el código\n",
        "Probando con excepción (Caso 1):\n",
        "\n",
        "# Probando en el ejemplo que lanza una excepción (ZeroDivisionError)\n",
        "presiones = [60, 120, 140, 160, 180]\n",
        "temperaturas = [0, 25, 30, 35, 40]\n",
        "\n",
        "divide_columnas(presiones, temperaturas)\n",
        "Copia el código\n",
        "Salida:\n",
        "\n",
        "division by zero: La 2ª lista no puede tener un valor igual a 0\n",
        "Copia el código\n",
        "Probando con excepción (Caso 2):\n",
        "\n",
        "# Probando en el ejemplo que lanza una excepción (ValueError)\n",
        "presiones = [100, 120, 140, 160]\n",
        "temperaturas = [20, 25, 30, 35, 40]\n",
        "\n",
        "divide_columnas(presiones, temperaturas)\n",
        "Copia el código\n",
        "Salida:\n",
        "\n",
        "Las listas deben tener el mismo tamaño"
      ],
      "metadata": {
        "id": "Nuu16bPy9onL"
      },
      "execution_count": null,
      "outputs": []
    }
  ]
}
